{
 "cells": [
  {
   "cell_type": "code",
   "execution_count": 1,
   "id": "c660a16a",
   "metadata": {
    "ExecuteTime": {
     "end_time": "2024-07-28T05:38:19.913764Z",
     "start_time": "2024-07-28T05:38:05.083Z"
    }
   },
   "outputs": [
    {
     "name": "stderr",
     "output_type": "stream",
     "text": [
      "Warning message:\n",
      "\"package 'dplyr' was built under R version 4.2.3\"\n",
      "\n",
      "Attaching package: 'dplyr'\n",
      "\n",
      "\n",
      "The following objects are masked from 'package:stats':\n",
      "\n",
      "    filter, lag\n",
      "\n",
      "\n",
      "The following objects are masked from 'package:base':\n",
      "\n",
      "    intersect, setdiff, setequal, union\n",
      "\n",
      "\n",
      "Attaching SeuratObject\n",
      "\n",
      "Warning message:\n",
      "\"package 'patchwork' was built under R version 4.2.3\"\n",
      "Warning message:\n",
      "\"package 'repr' was built under R version 4.2.2\"\n",
      "Warning message:\n",
      "\"package 'hdf5r' was built under R version 4.2.3\"\n",
      "Loading required package: SingleCellExperiment\n",
      "\n",
      "Warning message:\n",
      "\"package 'SingleCellExperiment' was built under R version 4.2.2\"\n",
      "Loading required package: SummarizedExperiment\n",
      "\n",
      "Loading required package: MatrixGenerics\n",
      "\n",
      "Loading required package: matrixStats\n",
      "\n",
      "Warning message:\n",
      "\"package 'matrixStats' was built under R version 4.2.3\"\n",
      "\n",
      "Attaching package: 'matrixStats'\n",
      "\n",
      "\n",
      "The following object is masked from 'package:dplyr':\n",
      "\n",
      "    count\n",
      "\n",
      "\n",
      "\n",
      "Attaching package: 'MatrixGenerics'\n",
      "\n",
      "\n",
      "The following objects are masked from 'package:matrixStats':\n",
      "\n",
      "    colAlls, colAnyNAs, colAnys, colAvgsPerRowSet, colCollapse,\n",
      "    colCounts, colCummaxs, colCummins, colCumprods, colCumsums,\n",
      "    colDiffs, colIQRDiffs, colIQRs, colLogSumExps, colMadDiffs,\n",
      "    colMads, colMaxs, colMeans2, colMedians, colMins, colOrderStats,\n",
      "    colProds, colQuantiles, colRanges, colRanks, colSdDiffs, colSds,\n",
      "    colSums2, colTabulates, colVarDiffs, colVars, colWeightedMads,\n",
      "    colWeightedMeans, colWeightedMedians, colWeightedSds,\n",
      "    colWeightedVars, rowAlls, rowAnyNAs, rowAnys, rowAvgsPerColSet,\n",
      "    rowCollapse, rowCounts, rowCummaxs, rowCummins, rowCumprods,\n",
      "    rowCumsums, rowDiffs, rowIQRDiffs, rowIQRs, rowLogSumExps,\n",
      "    rowMadDiffs, rowMads, rowMaxs, rowMeans2, rowMedians, rowMins,\n",
      "    rowOrderStats, rowProds, rowQuantiles, rowRanges, rowRanks,\n",
      "    rowSdDiffs, rowSds, rowSums2, rowTabulates, rowVarDiffs, rowVars,\n",
      "    rowWeightedMads, rowWeightedMeans, rowWeightedMedians,\n",
      "    rowWeightedSds, rowWeightedVars\n",
      "\n",
      "\n",
      "Loading required package: GenomicRanges\n",
      "\n",
      "Warning message:\n",
      "\"package 'GenomicRanges' was built under R version 4.2.2\"\n",
      "Loading required package: stats4\n",
      "\n",
      "Loading required package: BiocGenerics\n",
      "\n",
      "\n",
      "Attaching package: 'BiocGenerics'\n",
      "\n",
      "\n",
      "The following objects are masked from 'package:dplyr':\n",
      "\n",
      "    combine, intersect, setdiff, union\n",
      "\n",
      "\n",
      "The following objects are masked from 'package:stats':\n",
      "\n",
      "    IQR, mad, sd, var, xtabs\n",
      "\n",
      "\n",
      "The following objects are masked from 'package:base':\n",
      "\n",
      "    anyDuplicated, aperm, append, as.data.frame, basename, cbind,\n",
      "    colnames, dirname, do.call, duplicated, eval, evalq, Filter, Find,\n",
      "    get, grep, grepl, intersect, is.unsorted, lapply, Map, mapply,\n",
      "    match, mget, order, paste, pmax, pmax.int, pmin, pmin.int,\n",
      "    Position, rank, rbind, Reduce, rownames, sapply, setdiff, sort,\n",
      "    table, tapply, union, unique, unsplit, which.max, which.min\n",
      "\n",
      "\n",
      "Loading required package: S4Vectors\n",
      "\n",
      "Warning message:\n",
      "\"package 'S4Vectors' was built under R version 4.2.2\"\n",
      "\n",
      "Attaching package: 'S4Vectors'\n",
      "\n",
      "\n",
      "The following object is masked from 'package:hdf5r':\n",
      "\n",
      "    values\n",
      "\n",
      "\n",
      "The following objects are masked from 'package:dplyr':\n",
      "\n",
      "    first, rename\n",
      "\n",
      "\n",
      "The following objects are masked from 'package:base':\n",
      "\n",
      "    expand.grid, I, unname\n",
      "\n",
      "\n",
      "Loading required package: IRanges\n",
      "\n",
      "\n",
      "Attaching package: 'IRanges'\n",
      "\n",
      "\n",
      "The following objects are masked from 'package:dplyr':\n",
      "\n",
      "    collapse, desc, slice\n",
      "\n",
      "\n",
      "The following object is masked from 'package:grDevices':\n",
      "\n",
      "    windows\n",
      "\n",
      "\n",
      "Loading required package: GenomeInfoDb\n",
      "\n",
      "Warning message:\n",
      "\"package 'GenomeInfoDb' was built under R version 4.2.2\"\n",
      "Loading required package: Biobase\n",
      "\n",
      "Welcome to Bioconductor\n",
      "\n",
      "    Vignettes contain introductory material; view with\n",
      "    'browseVignettes()'. To cite Bioconductor, see\n",
      "    'citation(\"Biobase\")', and for packages 'citation(\"pkgname\")'.\n",
      "\n",
      "\n",
      "\n",
      "Attaching package: 'Biobase'\n",
      "\n",
      "\n",
      "The following object is masked from 'package:MatrixGenerics':\n",
      "\n",
      "    rowMedians\n",
      "\n",
      "\n",
      "The following objects are masked from 'package:matrixStats':\n",
      "\n",
      "    anyMissing, rowMedians\n",
      "\n",
      "\n",
      "\n",
      "Attaching package: 'SummarizedExperiment'\n",
      "\n",
      "\n",
      "The following object is masked from 'package:SeuratObject':\n",
      "\n",
      "    Assays\n",
      "\n",
      "\n",
      "The following object is masked from 'package:Seurat':\n",
      "\n",
      "    Assays\n",
      "\n",
      "\n",
      "Warning message:\n",
      "\"package 'tidyverse' was built under R version 4.2.2\"\n",
      "Warning message:\n",
      "\"package 'ggplot2' was built under R version 4.2.3\"\n",
      "Warning message:\n",
      "\"package 'tibble' was built under R version 4.2.3\"\n",
      "Warning message:\n",
      "\"package 'tidyr' was built under R version 4.2.2\"\n",
      "Warning message:\n",
      "\"package 'readr' was built under R version 4.2.2\"\n",
      "Warning message:\n",
      "\"package 'purrr' was built under R version 4.2.3\"\n",
      "Warning message:\n",
      "\"package 'stringr' was built under R version 4.2.3\"\n",
      "Warning message:\n",
      "\"package 'forcats' was built under R version 4.2.2\"\n",
      "Warning message:\n",
      "\"package 'lubridate' was built under R version 4.2.3\"\n",
      "── \u001b[1mAttaching core tidyverse packages\u001b[22m ──────────────────────────────────────────────────────────────── tidyverse 2.0.0 ──\n",
      "\u001b[32m✔\u001b[39m \u001b[34mforcats  \u001b[39m 1.0.0     \u001b[32m✔\u001b[39m \u001b[34mreadr    \u001b[39m 2.1.4\n",
      "\u001b[32m✔\u001b[39m \u001b[34mggplot2  \u001b[39m 3.4.4     \u001b[32m✔\u001b[39m \u001b[34mstringr  \u001b[39m 1.5.1\n",
      "\u001b[32m✔\u001b[39m \u001b[34mlubridate\u001b[39m 1.9.3     \u001b[32m✔\u001b[39m \u001b[34mtibble   \u001b[39m 3.2.1\n",
      "\u001b[32m✔\u001b[39m \u001b[34mpurrr    \u001b[39m 1.0.2     \u001b[32m✔\u001b[39m \u001b[34mtidyr    \u001b[39m 1.3.0\n",
      "── \u001b[1mConflicts\u001b[22m ────────────────────────────────────────────────────────────────────────────────── tidyverse_conflicts() ──\n",
      "\u001b[31m✖\u001b[39m \u001b[34mlubridate\u001b[39m::\u001b[32m%within%()\u001b[39m masks \u001b[34mIRanges\u001b[39m::%within%()\n",
      "\u001b[31m✖\u001b[39m \u001b[34mIRanges\u001b[39m::\u001b[32mcollapse()\u001b[39m   masks \u001b[34mdplyr\u001b[39m::collapse()\n",
      "\u001b[31m✖\u001b[39m \u001b[34mBiobase\u001b[39m::\u001b[32mcombine()\u001b[39m    masks \u001b[34mBiocGenerics\u001b[39m::combine(), \u001b[34mdplyr\u001b[39m::combine()\n",
      "\u001b[31m✖\u001b[39m \u001b[34mmatrixStats\u001b[39m::\u001b[32mcount()\u001b[39m  masks \u001b[34mdplyr\u001b[39m::count()\n",
      "\u001b[31m✖\u001b[39m \u001b[34mIRanges\u001b[39m::\u001b[32mdesc()\u001b[39m       masks \u001b[34mdplyr\u001b[39m::desc()\n",
      "\u001b[31m✖\u001b[39m \u001b[34mtidyr\u001b[39m::\u001b[32mexpand()\u001b[39m       masks \u001b[34mS4Vectors\u001b[39m::expand()\n",
      "\u001b[31m✖\u001b[39m \u001b[34mdplyr\u001b[39m::\u001b[32mfilter()\u001b[39m       masks \u001b[34mstats\u001b[39m::filter()\n",
      "\u001b[31m✖\u001b[39m \u001b[34mS4Vectors\u001b[39m::\u001b[32mfirst()\u001b[39m    masks \u001b[34mdplyr\u001b[39m::first()\n",
      "\u001b[31m✖\u001b[39m \u001b[34mpurrr\u001b[39m::\u001b[32mflatten()\u001b[39m      masks \u001b[34mjsonlite\u001b[39m::flatten()\n",
      "\u001b[31m✖\u001b[39m \u001b[34mpurrr\u001b[39m::\u001b[32mflatten_df()\u001b[39m   masks \u001b[34mhdf5r\u001b[39m::flatten_df()\n",
      "\u001b[31m✖\u001b[39m \u001b[34mdplyr\u001b[39m::\u001b[32mlag()\u001b[39m          masks \u001b[34mstats\u001b[39m::lag()\n",
      "\u001b[31m✖\u001b[39m \u001b[34mggplot2\u001b[39m::\u001b[32mPosition()\u001b[39m   masks \u001b[34mBiocGenerics\u001b[39m::Position(), \u001b[34mbase\u001b[39m::Position()\n",
      "\u001b[31m✖\u001b[39m \u001b[34mpurrr\u001b[39m::\u001b[32mreduce()\u001b[39m       masks \u001b[34mGenomicRanges\u001b[39m::reduce(), \u001b[34mIRanges\u001b[39m::reduce()\n",
      "\u001b[31m✖\u001b[39m \u001b[34mS4Vectors\u001b[39m::\u001b[32mrename()\u001b[39m   masks \u001b[34mdplyr\u001b[39m::rename()\n",
      "\u001b[31m✖\u001b[39m \u001b[34mlubridate\u001b[39m::\u001b[32msecond()\u001b[39m   masks \u001b[34mS4Vectors\u001b[39m::second()\n",
      "\u001b[31m✖\u001b[39m \u001b[34mlubridate\u001b[39m::\u001b[32msecond<-()\u001b[39m masks \u001b[34mS4Vectors\u001b[39m::second<-()\n",
      "\u001b[31m✖\u001b[39m \u001b[34mIRanges\u001b[39m::\u001b[32mslice()\u001b[39m      masks \u001b[34mdplyr\u001b[39m::slice()\n",
      "\u001b[36mℹ\u001b[39m Use the conflicted package (\u001b[3m\u001b[34m<http://conflicted.r-lib.org/>\u001b[39m\u001b[23m) to force all conflicts to become errors\n",
      "Warning message:\n",
      "\"package 'ggrepel' was built under R version 4.2.3\"\n",
      "\n",
      "Attaching package: 'celldex'\n",
      "\n",
      "\n",
      "The following objects are masked from 'package:SingleR':\n",
      "\n",
      "    BlueprintEncodeData, DatabaseImmuneCellExpressionData,\n",
      "    HumanPrimaryCellAtlasData, ImmGenData, MonacoImmuneData,\n",
      "    MouseRNAseqData, NovershternHematopoieticData\n",
      "\n",
      "\n",
      "Warning message:\n",
      "\"package 'clustree' was built under R version 4.2.3\"\n",
      "Loading required package: ggraph\n",
      "\n",
      "Loading required package: grid\n",
      "\n",
      "Loading required package: futile.logger\n",
      "\n",
      "Warning message:\n",
      "\"package 'edgeR' was built under R version 4.2.2\"\n",
      "Loading required package: limma\n",
      "\n",
      "\n",
      "Attaching package: 'limma'\n",
      "\n",
      "\n",
      "The following object is masked from 'package:BiocGenerics':\n",
      "\n",
      "    plotMA\n",
      "\n",
      "\n",
      "\n",
      "Attaching package: 'edgeR'\n",
      "\n",
      "\n",
      "The following object is masked from 'package:SingleCellExperiment':\n",
      "\n",
      "    cpm\n",
      "\n",
      "\n",
      "Warning message:\n",
      "\"package 'WGCNA' was built under R version 4.2.3\"\n",
      "Loading required package: dynamicTreeCut\n",
      "\n",
      "Loading required package: fastcluster\n",
      "\n",
      "Warning message:\n",
      "\"package 'fastcluster' was built under R version 4.2.3\"\n",
      "\n",
      "Attaching package: 'fastcluster'\n",
      "\n",
      "\n",
      "The following object is masked from 'package:stats':\n",
      "\n",
      "    hclust\n",
      "\n",
      "\n"
     ]
    },
    {
     "name": "stderr",
     "output_type": "stream",
     "text": [
      "\n",
      "\n",
      "\n",
      "Attaching package: 'WGCNA'\n",
      "\n",
      "\n",
      "The following object is masked from 'package:IRanges':\n",
      "\n",
      "    cor\n",
      "\n",
      "\n",
      "The following object is masked from 'package:S4Vectors':\n",
      "\n",
      "    cor\n",
      "\n",
      "\n",
      "The following object is masked from 'package:stats':\n",
      "\n",
      "    cor\n",
      "\n",
      "\n",
      "Warning message:\n",
      "\"package 'proxy' was built under R version 4.2.2\"\n",
      "\n",
      "Attaching package: 'proxy'\n",
      "\n",
      "\n",
      "The following object is masked from 'package:IRanges':\n",
      "\n",
      "    as.matrix\n",
      "\n",
      "\n",
      "The following object is masked from 'package:S4Vectors':\n",
      "\n",
      "    as.matrix\n",
      "\n",
      "\n",
      "The following objects are masked from 'package:stats':\n",
      "\n",
      "    as.dist, dist\n",
      "\n",
      "\n",
      "The following object is masked from 'package:base':\n",
      "\n",
      "    as.matrix\n",
      "\n",
      "\n"
     ]
    }
   ],
   "source": [
    "library(dplyr)\n",
    "library(Seurat)\n",
    "library(patchwork)\n",
    "library(repr)\n",
    "library(hdf5r)\n",
    "library(MAST)\n",
    "library(DoubletFinder)\n",
    "library(tidyverse)\n",
    "library(ggplot2)\n",
    "library(ggrepel)\n",
    "library(SingleR)\n",
    "library(celldex)\n",
    "library(clustree)\n",
    "library(VennDiagram)\n",
    "library(edgeR)\n",
    "library(WGCNA)\n",
    "library(hdWGCNA)\n",
    "library(proxy)"
   ]
  },
  {
   "cell_type": "markdown",
   "id": "d1132436",
   "metadata": {},
   "source": [
    "# 空转部分差异基因绘图"
   ]
  },
  {
   "cell_type": "code",
   "execution_count": 2,
   "id": "88585610",
   "metadata": {
    "ExecuteTime": {
     "end_time": "2024-07-28T05:38:19.934293Z",
     "start_time": "2024-07-28T05:38:05.084Z"
    }
   },
   "outputs": [],
   "source": [
    "section_ids <- c('ST_1M_AD_1_1', 'ST_1M_AD_1_2', 'ST_1M_WT_1_1', 'ST_1M_WT_1_2', \n",
    "                   'ST_3M_AD_1_1', 'ST_3M_AD_1_2', 'ST_3M_WT_1_1', 'ST_3M_WT_1_2',\n",
    "                   'ST_6M_AD_2_1', 'ST_6M_AD_2_2', 'ST_6M_WT_2_1', 'ST_6M_WT_2_2',\n",
    "                   'ST_15M_AD_2_1', 'ST_15M_AD_2_2', 'ST_15M_WT_2_1', 'ST_15M_WT_2_2')"
   ]
  },
  {
   "cell_type": "markdown",
   "id": "c1136261",
   "metadata": {},
   "source": [
    "# 读取16张切片的最终聚类结果"
   ]
  },
  {
   "cell_type": "code",
   "execution_count": 3,
   "id": "f4eb1d29",
   "metadata": {
    "ExecuteTime": {
     "end_time": "2024-07-28T05:39:11.901861Z",
     "start_time": "2024-07-28T05:38:05.085Z"
    }
   },
   "outputs": [],
   "source": [
    "# 读取数据\n",
    "Batch_list <- list()\n",
    "i <- 1\n",
    "for (section_id in section_ids){\n",
    "    # The path to Data\n",
    "    input_dir0 <- paste0('../AD_ST_Multiome/st/', section_id)\n",
    "    #  读取计数矩阵\n",
    "    adata <- Seurat::Load10X_Spatial(input_dir0)\n",
    "    adata@meta.data$orig.ident <- section_id\n",
    "    \n",
    "    # 读取STAligner的聚类结果 ， 并根据 batch_name 分配给不同的 section\n",
    "    final_results = read.csv(\n",
    "        paste0('./results/最终聚类结果/',section_ids[i],'.csv'),\n",
    "        row.names=1,\n",
    "        sep=',',\n",
    "        header=1)\n",
    "    \n",
    "    # 放入adata的结果里面\n",
    "    adata@meta.data$STAligner <- final_results[rownames(adata@meta.data), 'hand_lebel']\n",
    "    adata@meta.data$STAligner <- as.character(adata@meta.data$STAligner)\n",
    "       \n",
    "    names(adata@images) <- section_id\n",
    "    Batch_list[[i]] <- adata\n",
    "    i <- i + 1\n",
    "}"
   ]
  },
  {
   "cell_type": "code",
   "execution_count": 4,
   "id": "59b2890d",
   "metadata": {
    "ExecuteTime": {
     "end_time": "2024-07-28T05:39:50.287668Z",
     "start_time": "2024-07-28T05:38:05.087Z"
    }
   },
   "outputs": [
    {
     "name": "stderr",
     "output_type": "stream",
     "text": [
      "Warning message in CheckDuplicateCellNames(object.list = objects):\n",
      "\"Some cell names are duplicated across objects provided. Renaming to enforce unique cell names.\"\n"
     ]
    }
   ],
   "source": [
    "# 将数据merge到一起\n",
    "datas <- merge(\n",
    "    x <- Batch_list[[1]], # [[1]]表示取列表的第一个元素\n",
    "    y <- Batch_list[-1],  # -1 表示除了第一个元素以外剩下的列表\n",
    ")"
   ]
  },
  {
   "cell_type": "code",
   "execution_count": 5,
   "id": "b713863b",
   "metadata": {
    "ExecuteTime": {
     "end_time": "2024-07-28T05:39:50.948681Z",
     "start_time": "2024-07-28T05:38:05.088Z"
    }
   },
   "outputs": [],
   "source": [
    "# 疾病信息\n",
    "datas@meta.data$if_disease <- sapply(datas@meta.data$orig.ident, function(x){\n",
    "    x <- strsplit(x, '_')[[1]][3]\n",
    "})\n",
    "\n",
    "# 月份信息\n",
    "datas@meta.data$month <- sapply(datas@meta.data$orig.ident, function(x){\n",
    "    x <- strsplit(x, '_')[[1]][2]\n",
    "})"
   ]
  },
  {
   "cell_type": "code",
   "execution_count": 6,
   "id": "75d34146",
   "metadata": {
    "ExecuteTime": {
     "end_time": "2024-07-28T05:39:51.060134Z",
     "start_time": "2024-07-28T05:38:05.091Z"
    }
   },
   "outputs": [
    {
     "data": {
      "text/html": [
       "<table class=\"dataframe\">\n",
       "<caption>A data.frame: 42993 × 7</caption>\n",
       "<thead>\n",
       "\t<tr><th></th><th scope=col>orig.ident</th><th scope=col>nCount_Spatial</th><th scope=col>nFeature_Spatial</th><th scope=col>STAligner</th><th scope=col>if_disease</th><th scope=col>month</th><th scope=col>if_choose</th></tr>\n",
       "\t<tr><th></th><th scope=col>&lt;chr&gt;</th><th scope=col>&lt;dbl&gt;</th><th scope=col>&lt;int&gt;</th><th scope=col>&lt;chr&gt;</th><th scope=col>&lt;chr&gt;</th><th scope=col>&lt;chr&gt;</th><th scope=col>&lt;dbl&gt;</th></tr>\n",
       "</thead>\n",
       "<tbody>\n",
       "\t<tr><th scope=row>AAACACCAATAACTGC-1_1</th><td>ST_1M_AD_1_1</td><td>44392</td><td>7554</td><td>L5     </td><td>AD</td><td>1M</td><td>1</td></tr>\n",
       "\t<tr><th scope=row>AAACAGAGCGACTCCT-1_1</th><td>ST_1M_AD_1_1</td><td>43837</td><td>8155</td><td>PIR    </td><td>AD</td><td>1M</td><td>1</td></tr>\n",
       "\t<tr><th scope=row>AAACCGGGTAGGTACC-1_1</th><td>ST_1M_AD_1_1</td><td>38131</td><td>8183</td><td>CA-2   </td><td>AD</td><td>1M</td><td>1</td></tr>\n",
       "\t<tr><th scope=row>AAACCGTTCGTCCAGG-1_1</th><td>ST_1M_AD_1_1</td><td>30094</td><td>6690</td><td>CC     </td><td>AD</td><td>1M</td><td>1</td></tr>\n",
       "\t<tr><th scope=row>AAACCTCATGAAGTTG-1_1</th><td>ST_1M_AD_1_1</td><td>36160</td><td>7413</td><td>TH-1   </td><td>AD</td><td>1M</td><td>1</td></tr>\n",
       "\t<tr><th scope=row>AAACGAAGAACATACC-1_1</th><td>ST_1M_AD_1_1</td><td>54396</td><td>8681</td><td>sAMY   </td><td>AD</td><td>1M</td><td>1</td></tr>\n",
       "\t<tr><th scope=row>AAACGAGACGGTTGAT-1_1</th><td>ST_1M_AD_1_1</td><td>35128</td><td>6857</td><td>STRD-2 </td><td>AD</td><td>1M</td><td>1</td></tr>\n",
       "\t<tr><th scope=row>AAACTGCTGGCTCCAA-1_1</th><td>ST_1M_AD_1_1</td><td>30042</td><td>6463</td><td>CC     </td><td>AD</td><td>1M</td><td>1</td></tr>\n",
       "\t<tr><th scope=row>AAACTTGCAAACGTAT-1_1</th><td>ST_1M_AD_1_1</td><td>63338</td><td>8692</td><td>CA-1   </td><td>AD</td><td>1M</td><td>1</td></tr>\n",
       "\t<tr><th scope=row>AAAGACCCAAGTCGCG-1_1</th><td>ST_1M_AD_1_1</td><td>31288</td><td>6987</td><td>sAMY   </td><td>AD</td><td>1M</td><td>1</td></tr>\n",
       "\t<tr><th scope=row>AAAGACTGGGCGCTTT-1_1</th><td>ST_1M_AD_1_1</td><td>35772</td><td>7249</td><td>TH-3   </td><td>AD</td><td>1M</td><td>1</td></tr>\n",
       "\t<tr><th scope=row>AAAGGCCCTATAATAC-1_1</th><td>ST_1M_AD_1_1</td><td>18966</td><td>5330</td><td>L1     </td><td>AD</td><td>1M</td><td>1</td></tr>\n",
       "\t<tr><th scope=row>AAAGGCTACGGACCAT-1_1</th><td>ST_1M_AD_1_1</td><td>44242</td><td>7840</td><td>L2/3   </td><td>AD</td><td>1M</td><td>1</td></tr>\n",
       "\t<tr><th scope=row>AAAGGCTCTCGCGCCG-1_1</th><td>ST_1M_AD_1_1</td><td>33312</td><td>7111</td><td>L5     </td><td>AD</td><td>1M</td><td>1</td></tr>\n",
       "\t<tr><th scope=row>AAAGGGATGTAGCAAG-1_1</th><td>ST_1M_AD_1_1</td><td>17273</td><td>4610</td><td>SI     </td><td>AD</td><td>1M</td><td>1</td></tr>\n",
       "\t<tr><th scope=row>AAAGGGCAGCTTGAAT-1_1</th><td>ST_1M_AD_1_1</td><td>16603</td><td>4853</td><td>TH-2   </td><td>AD</td><td>1M</td><td>1</td></tr>\n",
       "\t<tr><th scope=row>AAAGTAGCATTGCTCA-1_1</th><td>ST_1M_AD_1_1</td><td>20603</td><td>5498</td><td>CC     </td><td>AD</td><td>1M</td><td>1</td></tr>\n",
       "\t<tr><th scope=row>AAAGTCACTGATGTAA-1_1</th><td>ST_1M_AD_1_1</td><td>38070</td><td>7717</td><td>sAMY   </td><td>AD</td><td>1M</td><td>1</td></tr>\n",
       "\t<tr><th scope=row>AAAGTCGACCCTCAGT-1_1</th><td>ST_1M_AD_1_1</td><td>57097</td><td>8806</td><td>TH-1   </td><td>AD</td><td>1M</td><td>1</td></tr>\n",
       "\t<tr><th scope=row>AAAGTGTGATTTATCT-1_1</th><td>ST_1M_AD_1_1</td><td>26424</td><td>6230</td><td>L4     </td><td>AD</td><td>1M</td><td>1</td></tr>\n",
       "\t<tr><th scope=row>AAAGTTGACTCCCGTA-1_1</th><td>ST_1M_AD_1_1</td><td>39014</td><td>7449</td><td>L4     </td><td>AD</td><td>1M</td><td>1</td></tr>\n",
       "\t<tr><th scope=row>AAATAACCATACGGGA-1_1</th><td>ST_1M_AD_1_1</td><td>34149</td><td>7312</td><td>CTXsp-1</td><td>AD</td><td>1M</td><td>1</td></tr>\n",
       "\t<tr><th scope=row>AAATACCTATAAGCAT-1_1</th><td>ST_1M_AD_1_1</td><td>38916</td><td>7490</td><td>L6     </td><td>AD</td><td>1M</td><td>1</td></tr>\n",
       "\t<tr><th scope=row>AAATAGCTTAGACTTT-1_1</th><td>ST_1M_AD_1_1</td><td>25414</td><td>6197</td><td>L1     </td><td>AD</td><td>1M</td><td>1</td></tr>\n",
       "\t<tr><th scope=row>AAATAGGGTGCTATTG-1_1</th><td>ST_1M_AD_1_1</td><td>35023</td><td>7139</td><td>L4     </td><td>AD</td><td>1M</td><td>1</td></tr>\n",
       "\t<tr><th scope=row>AAATCGTGTACCACAA-1_1</th><td>ST_1M_AD_1_1</td><td>19662</td><td>5404</td><td>STRD-1 </td><td>AD</td><td>1M</td><td>1</td></tr>\n",
       "\t<tr><th scope=row>AAATGCTCGTTACGTT-1_1</th><td>ST_1M_AD_1_1</td><td>28773</td><td>6586</td><td>HY     </td><td>AD</td><td>1M</td><td>1</td></tr>\n",
       "\t<tr><th scope=row>AAATGGCATGTCTTGT-1_1</th><td>ST_1M_AD_1_1</td><td>31435</td><td>6955</td><td>sAMY   </td><td>AD</td><td>1M</td><td>1</td></tr>\n",
       "\t<tr><th scope=row>AAATGGCCCGTGCCCT-1_1</th><td>ST_1M_AD_1_1</td><td>30587</td><td>6691</td><td>L5     </td><td>AD</td><td>1M</td><td>1</td></tr>\n",
       "\t<tr><th scope=row>AAATGGTCAATGTGCC-1_1</th><td>ST_1M_AD_1_1</td><td>29002</td><td>6668</td><td>RT     </td><td>AD</td><td>1M</td><td>1</td></tr>\n",
       "\t<tr><th scope=row>⋮</th><td>⋮</td><td>⋮</td><td>⋮</td><td>⋮</td><td>⋮</td><td>⋮</td><td>⋮</td></tr>\n",
       "\t<tr><th scope=row>TTGGACCATCTGGCAA-1_16</th><td>ST_15M_WT_2_2</td><td>25201</td><td>6186</td><td>PIR    </td><td>WT</td><td>15M</td><td>1</td></tr>\n",
       "\t<tr><th scope=row>TTGGACCTATAACAGT-1_16</th><td>ST_15M_WT_2_2</td><td>14220</td><td>4380</td><td>PIR    </td><td>WT</td><td>15M</td><td>1</td></tr>\n",
       "\t<tr><th scope=row>TTGGATATCGTCTACG-1_16</th><td>ST_15M_WT_2_2</td><td>10342</td><td>3736</td><td>STRD-2 </td><td>WT</td><td>15M</td><td>1</td></tr>\n",
       "\t<tr><th scope=row>TTGGATTGGGTACCAC-1_16</th><td>ST_15M_WT_2_2</td><td>12748</td><td>4144</td><td>TH-1   </td><td>WT</td><td>15M</td><td>1</td></tr>\n",
       "\t<tr><th scope=row>TTGGCCATCTTGCGCT-1_16</th><td>ST_15M_WT_2_2</td><td> 5689</td><td>2238</td><td>Fxs+Int</td><td>WT</td><td>15M</td><td>1</td></tr>\n",
       "\t<tr><th scope=row>TTGGCCTAGAATTTCG-1_16</th><td>ST_15M_WT_2_2</td><td>14199</td><td>4743</td><td>TH-3   </td><td>WT</td><td>15M</td><td>1</td></tr>\n",
       "\t<tr><th scope=row>TTGGCTCGCATGAGAC-1_16</th><td>ST_15M_WT_2_2</td><td>32509</td><td>7145</td><td>DG     </td><td>WT</td><td>15M</td><td>1</td></tr>\n",
       "\t<tr><th scope=row>TTGGGACACTGCCCGC-1_16</th><td>ST_15M_WT_2_2</td><td>15773</td><td>4727</td><td>DORsm  </td><td>WT</td><td>15M</td><td>1</td></tr>\n",
       "\t<tr><th scope=row>TTGGGACGTAAGAGTT-1_16</th><td>ST_15M_WT_2_2</td><td>22789</td><td>6090</td><td>PIR    </td><td>WT</td><td>15M</td><td>1</td></tr>\n",
       "\t<tr><th scope=row>TTGGGCGGCGGTTGCC-1_16</th><td>ST_15M_WT_2_2</td><td>14024</td><td>4229</td><td>DORsm  </td><td>WT</td><td>15M</td><td>1</td></tr>\n",
       "\t<tr><th scope=row>TTGGTCACACTCGTAA-1_16</th><td>ST_15M_WT_2_2</td><td> 4936</td><td>2204</td><td>STRD-1 </td><td>WT</td><td>15M</td><td>1</td></tr>\n",
       "\t<tr><th scope=row>TTGGTTGCGGTGCGCG-1_16</th><td>ST_15M_WT_2_2</td><td>22966</td><td>5753</td><td>L2/3   </td><td>WT</td><td>15M</td><td>1</td></tr>\n",
       "\t<tr><th scope=row>TTGTAAGGACCTAAGT-1_16</th><td>ST_15M_WT_2_2</td><td>16829</td><td>5089</td><td>L6     </td><td>WT</td><td>15M</td><td>1</td></tr>\n",
       "\t<tr><th scope=row>TTGTAAGGCCAGTTGG-1_16</th><td>ST_15M_WT_2_2</td><td> 9103</td><td>3360</td><td>TH-1   </td><td>WT</td><td>15M</td><td>1</td></tr>\n",
       "\t<tr><th scope=row>TTGTAATCCGTACTCG-1_16</th><td>ST_15M_WT_2_2</td><td> 7961</td><td>3093</td><td>RT     </td><td>WT</td><td>15M</td><td>1</td></tr>\n",
       "\t<tr><th scope=row>TTGTATCACACAGAAT-1_16</th><td>ST_15M_WT_2_2</td><td>12329</td><td>4274</td><td>TH-1   </td><td>WT</td><td>15M</td><td>1</td></tr>\n",
       "\t<tr><th scope=row>TTGTCGTTCAGTTACC-1_16</th><td>ST_15M_WT_2_2</td><td>10515</td><td>3555</td><td>TH-2   </td><td>WT</td><td>15M</td><td>1</td></tr>\n",
       "\t<tr><th scope=row>TTGTGAACCTAATCCG-1_16</th><td>ST_15M_WT_2_2</td><td>29825</td><td>6728</td><td>PIR    </td><td>WT</td><td>15M</td><td>1</td></tr>\n",
       "\t<tr><th scope=row>TTGTGAGGCATGACGC-1_16</th><td>ST_15M_WT_2_2</td><td>19591</td><td>5390</td><td>L4     </td><td>WT</td><td>15M</td><td>1</td></tr>\n",
       "\t<tr><th scope=row>TTGTGCAGCCACGTCA-1_16</th><td>ST_15M_WT_2_2</td><td>22032</td><td>5921</td><td>L1     </td><td>WT</td><td>15M</td><td>1</td></tr>\n",
       "\t<tr><th scope=row>TTGTGGCCCTGACAGT-1_16</th><td>ST_15M_WT_2_2</td><td>13413</td><td>4546</td><td>TH-3   </td><td>WT</td><td>15M</td><td>1</td></tr>\n",
       "\t<tr><th scope=row>TTGTGGTAGGAGGGAT-1_16</th><td>ST_15M_WT_2_2</td><td>21974</td><td>5712</td><td>L5     </td><td>WT</td><td>15M</td><td>1</td></tr>\n",
       "\t<tr><th scope=row>TTGTGTATGCCACCAA-1_16</th><td>ST_15M_WT_2_2</td><td>22130</td><td>5747</td><td>L5     </td><td>WT</td><td>15M</td><td>1</td></tr>\n",
       "\t<tr><th scope=row>TTGTGTTTCCCGAAAG-1_16</th><td>ST_15M_WT_2_2</td><td>14640</td><td>4729</td><td>CTXsp-2</td><td>WT</td><td>15M</td><td>1</td></tr>\n",
       "\t<tr><th scope=row>TTGTTAGCAAATTCGA-1_16</th><td>ST_15M_WT_2_2</td><td>14585</td><td>4371</td><td>DG     </td><td>WT</td><td>15M</td><td>1</td></tr>\n",
       "\t<tr><th scope=row>TTGTTCAGTGTGCTAC-1_16</th><td>ST_15M_WT_2_2</td><td>19242</td><td>5370</td><td>DORsm  </td><td>WT</td><td>15M</td><td>1</td></tr>\n",
       "\t<tr><th scope=row>TTGTTCTAGATACGCT-1_16</th><td>ST_15M_WT_2_2</td><td>25212</td><td>6074</td><td>L5     </td><td>WT</td><td>15M</td><td>1</td></tr>\n",
       "\t<tr><th scope=row>TTGTTGTGTGTCAAGA-1_16</th><td>ST_15M_WT_2_2</td><td>12324</td><td>4125</td><td>RT     </td><td>WT</td><td>15M</td><td>1</td></tr>\n",
       "\t<tr><th scope=row>TTGTTTCACATCCAGG-1_16</th><td>ST_15M_WT_2_2</td><td>15492</td><td>4625</td><td>L2/3   </td><td>WT</td><td>15M</td><td>1</td></tr>\n",
       "\t<tr><th scope=row>TTGTTTCCATACAACT-1_16</th><td>ST_15M_WT_2_2</td><td>21445</td><td>5732</td><td>L6     </td><td>WT</td><td>15M</td><td>1</td></tr>\n",
       "</tbody>\n",
       "</table>\n"
      ],
      "text/latex": [
       "A data.frame: 42993 × 7\n",
       "\\begin{tabular}{r|lllllll}\n",
       "  & orig.ident & nCount\\_Spatial & nFeature\\_Spatial & STAligner & if\\_disease & month & if\\_choose\\\\\n",
       "  & <chr> & <dbl> & <int> & <chr> & <chr> & <chr> & <dbl>\\\\\n",
       "\\hline\n",
       "\tAAACACCAATAACTGC-1\\_1 & ST\\_1M\\_AD\\_1\\_1 & 44392 & 7554 & L5      & AD & 1M & 1\\\\\n",
       "\tAAACAGAGCGACTCCT-1\\_1 & ST\\_1M\\_AD\\_1\\_1 & 43837 & 8155 & PIR     & AD & 1M & 1\\\\\n",
       "\tAAACCGGGTAGGTACC-1\\_1 & ST\\_1M\\_AD\\_1\\_1 & 38131 & 8183 & CA-2    & AD & 1M & 1\\\\\n",
       "\tAAACCGTTCGTCCAGG-1\\_1 & ST\\_1M\\_AD\\_1\\_1 & 30094 & 6690 & CC      & AD & 1M & 1\\\\\n",
       "\tAAACCTCATGAAGTTG-1\\_1 & ST\\_1M\\_AD\\_1\\_1 & 36160 & 7413 & TH-1    & AD & 1M & 1\\\\\n",
       "\tAAACGAAGAACATACC-1\\_1 & ST\\_1M\\_AD\\_1\\_1 & 54396 & 8681 & sAMY    & AD & 1M & 1\\\\\n",
       "\tAAACGAGACGGTTGAT-1\\_1 & ST\\_1M\\_AD\\_1\\_1 & 35128 & 6857 & STRD-2  & AD & 1M & 1\\\\\n",
       "\tAAACTGCTGGCTCCAA-1\\_1 & ST\\_1M\\_AD\\_1\\_1 & 30042 & 6463 & CC      & AD & 1M & 1\\\\\n",
       "\tAAACTTGCAAACGTAT-1\\_1 & ST\\_1M\\_AD\\_1\\_1 & 63338 & 8692 & CA-1    & AD & 1M & 1\\\\\n",
       "\tAAAGACCCAAGTCGCG-1\\_1 & ST\\_1M\\_AD\\_1\\_1 & 31288 & 6987 & sAMY    & AD & 1M & 1\\\\\n",
       "\tAAAGACTGGGCGCTTT-1\\_1 & ST\\_1M\\_AD\\_1\\_1 & 35772 & 7249 & TH-3    & AD & 1M & 1\\\\\n",
       "\tAAAGGCCCTATAATAC-1\\_1 & ST\\_1M\\_AD\\_1\\_1 & 18966 & 5330 & L1      & AD & 1M & 1\\\\\n",
       "\tAAAGGCTACGGACCAT-1\\_1 & ST\\_1M\\_AD\\_1\\_1 & 44242 & 7840 & L2/3    & AD & 1M & 1\\\\\n",
       "\tAAAGGCTCTCGCGCCG-1\\_1 & ST\\_1M\\_AD\\_1\\_1 & 33312 & 7111 & L5      & AD & 1M & 1\\\\\n",
       "\tAAAGGGATGTAGCAAG-1\\_1 & ST\\_1M\\_AD\\_1\\_1 & 17273 & 4610 & SI      & AD & 1M & 1\\\\\n",
       "\tAAAGGGCAGCTTGAAT-1\\_1 & ST\\_1M\\_AD\\_1\\_1 & 16603 & 4853 & TH-2    & AD & 1M & 1\\\\\n",
       "\tAAAGTAGCATTGCTCA-1\\_1 & ST\\_1M\\_AD\\_1\\_1 & 20603 & 5498 & CC      & AD & 1M & 1\\\\\n",
       "\tAAAGTCACTGATGTAA-1\\_1 & ST\\_1M\\_AD\\_1\\_1 & 38070 & 7717 & sAMY    & AD & 1M & 1\\\\\n",
       "\tAAAGTCGACCCTCAGT-1\\_1 & ST\\_1M\\_AD\\_1\\_1 & 57097 & 8806 & TH-1    & AD & 1M & 1\\\\\n",
       "\tAAAGTGTGATTTATCT-1\\_1 & ST\\_1M\\_AD\\_1\\_1 & 26424 & 6230 & L4      & AD & 1M & 1\\\\\n",
       "\tAAAGTTGACTCCCGTA-1\\_1 & ST\\_1M\\_AD\\_1\\_1 & 39014 & 7449 & L4      & AD & 1M & 1\\\\\n",
       "\tAAATAACCATACGGGA-1\\_1 & ST\\_1M\\_AD\\_1\\_1 & 34149 & 7312 & CTXsp-1 & AD & 1M & 1\\\\\n",
       "\tAAATACCTATAAGCAT-1\\_1 & ST\\_1M\\_AD\\_1\\_1 & 38916 & 7490 & L6      & AD & 1M & 1\\\\\n",
       "\tAAATAGCTTAGACTTT-1\\_1 & ST\\_1M\\_AD\\_1\\_1 & 25414 & 6197 & L1      & AD & 1M & 1\\\\\n",
       "\tAAATAGGGTGCTATTG-1\\_1 & ST\\_1M\\_AD\\_1\\_1 & 35023 & 7139 & L4      & AD & 1M & 1\\\\\n",
       "\tAAATCGTGTACCACAA-1\\_1 & ST\\_1M\\_AD\\_1\\_1 & 19662 & 5404 & STRD-1  & AD & 1M & 1\\\\\n",
       "\tAAATGCTCGTTACGTT-1\\_1 & ST\\_1M\\_AD\\_1\\_1 & 28773 & 6586 & HY      & AD & 1M & 1\\\\\n",
       "\tAAATGGCATGTCTTGT-1\\_1 & ST\\_1M\\_AD\\_1\\_1 & 31435 & 6955 & sAMY    & AD & 1M & 1\\\\\n",
       "\tAAATGGCCCGTGCCCT-1\\_1 & ST\\_1M\\_AD\\_1\\_1 & 30587 & 6691 & L5      & AD & 1M & 1\\\\\n",
       "\tAAATGGTCAATGTGCC-1\\_1 & ST\\_1M\\_AD\\_1\\_1 & 29002 & 6668 & RT      & AD & 1M & 1\\\\\n",
       "\t⋮ & ⋮ & ⋮ & ⋮ & ⋮ & ⋮ & ⋮ & ⋮\\\\\n",
       "\tTTGGACCATCTGGCAA-1\\_16 & ST\\_15M\\_WT\\_2\\_2 & 25201 & 6186 & PIR     & WT & 15M & 1\\\\\n",
       "\tTTGGACCTATAACAGT-1\\_16 & ST\\_15M\\_WT\\_2\\_2 & 14220 & 4380 & PIR     & WT & 15M & 1\\\\\n",
       "\tTTGGATATCGTCTACG-1\\_16 & ST\\_15M\\_WT\\_2\\_2 & 10342 & 3736 & STRD-2  & WT & 15M & 1\\\\\n",
       "\tTTGGATTGGGTACCAC-1\\_16 & ST\\_15M\\_WT\\_2\\_2 & 12748 & 4144 & TH-1    & WT & 15M & 1\\\\\n",
       "\tTTGGCCATCTTGCGCT-1\\_16 & ST\\_15M\\_WT\\_2\\_2 &  5689 & 2238 & Fxs+Int & WT & 15M & 1\\\\\n",
       "\tTTGGCCTAGAATTTCG-1\\_16 & ST\\_15M\\_WT\\_2\\_2 & 14199 & 4743 & TH-3    & WT & 15M & 1\\\\\n",
       "\tTTGGCTCGCATGAGAC-1\\_16 & ST\\_15M\\_WT\\_2\\_2 & 32509 & 7145 & DG      & WT & 15M & 1\\\\\n",
       "\tTTGGGACACTGCCCGC-1\\_16 & ST\\_15M\\_WT\\_2\\_2 & 15773 & 4727 & DORsm   & WT & 15M & 1\\\\\n",
       "\tTTGGGACGTAAGAGTT-1\\_16 & ST\\_15M\\_WT\\_2\\_2 & 22789 & 6090 & PIR     & WT & 15M & 1\\\\\n",
       "\tTTGGGCGGCGGTTGCC-1\\_16 & ST\\_15M\\_WT\\_2\\_2 & 14024 & 4229 & DORsm   & WT & 15M & 1\\\\\n",
       "\tTTGGTCACACTCGTAA-1\\_16 & ST\\_15M\\_WT\\_2\\_2 &  4936 & 2204 & STRD-1  & WT & 15M & 1\\\\\n",
       "\tTTGGTTGCGGTGCGCG-1\\_16 & ST\\_15M\\_WT\\_2\\_2 & 22966 & 5753 & L2/3    & WT & 15M & 1\\\\\n",
       "\tTTGTAAGGACCTAAGT-1\\_16 & ST\\_15M\\_WT\\_2\\_2 & 16829 & 5089 & L6      & WT & 15M & 1\\\\\n",
       "\tTTGTAAGGCCAGTTGG-1\\_16 & ST\\_15M\\_WT\\_2\\_2 &  9103 & 3360 & TH-1    & WT & 15M & 1\\\\\n",
       "\tTTGTAATCCGTACTCG-1\\_16 & ST\\_15M\\_WT\\_2\\_2 &  7961 & 3093 & RT      & WT & 15M & 1\\\\\n",
       "\tTTGTATCACACAGAAT-1\\_16 & ST\\_15M\\_WT\\_2\\_2 & 12329 & 4274 & TH-1    & WT & 15M & 1\\\\\n",
       "\tTTGTCGTTCAGTTACC-1\\_16 & ST\\_15M\\_WT\\_2\\_2 & 10515 & 3555 & TH-2    & WT & 15M & 1\\\\\n",
       "\tTTGTGAACCTAATCCG-1\\_16 & ST\\_15M\\_WT\\_2\\_2 & 29825 & 6728 & PIR     & WT & 15M & 1\\\\\n",
       "\tTTGTGAGGCATGACGC-1\\_16 & ST\\_15M\\_WT\\_2\\_2 & 19591 & 5390 & L4      & WT & 15M & 1\\\\\n",
       "\tTTGTGCAGCCACGTCA-1\\_16 & ST\\_15M\\_WT\\_2\\_2 & 22032 & 5921 & L1      & WT & 15M & 1\\\\\n",
       "\tTTGTGGCCCTGACAGT-1\\_16 & ST\\_15M\\_WT\\_2\\_2 & 13413 & 4546 & TH-3    & WT & 15M & 1\\\\\n",
       "\tTTGTGGTAGGAGGGAT-1\\_16 & ST\\_15M\\_WT\\_2\\_2 & 21974 & 5712 & L5      & WT & 15M & 1\\\\\n",
       "\tTTGTGTATGCCACCAA-1\\_16 & ST\\_15M\\_WT\\_2\\_2 & 22130 & 5747 & L5      & WT & 15M & 1\\\\\n",
       "\tTTGTGTTTCCCGAAAG-1\\_16 & ST\\_15M\\_WT\\_2\\_2 & 14640 & 4729 & CTXsp-2 & WT & 15M & 1\\\\\n",
       "\tTTGTTAGCAAATTCGA-1\\_16 & ST\\_15M\\_WT\\_2\\_2 & 14585 & 4371 & DG      & WT & 15M & 1\\\\\n",
       "\tTTGTTCAGTGTGCTAC-1\\_16 & ST\\_15M\\_WT\\_2\\_2 & 19242 & 5370 & DORsm   & WT & 15M & 1\\\\\n",
       "\tTTGTTCTAGATACGCT-1\\_16 & ST\\_15M\\_WT\\_2\\_2 & 25212 & 6074 & L5      & WT & 15M & 1\\\\\n",
       "\tTTGTTGTGTGTCAAGA-1\\_16 & ST\\_15M\\_WT\\_2\\_2 & 12324 & 4125 & RT      & WT & 15M & 1\\\\\n",
       "\tTTGTTTCACATCCAGG-1\\_16 & ST\\_15M\\_WT\\_2\\_2 & 15492 & 4625 & L2/3    & WT & 15M & 1\\\\\n",
       "\tTTGTTTCCATACAACT-1\\_16 & ST\\_15M\\_WT\\_2\\_2 & 21445 & 5732 & L6      & WT & 15M & 1\\\\\n",
       "\\end{tabular}\n"
      ],
      "text/markdown": [
       "\n",
       "A data.frame: 42993 × 7\n",
       "\n",
       "| <!--/--> | orig.ident &lt;chr&gt; | nCount_Spatial &lt;dbl&gt; | nFeature_Spatial &lt;int&gt; | STAligner &lt;chr&gt; | if_disease &lt;chr&gt; | month &lt;chr&gt; | if_choose &lt;dbl&gt; |\n",
       "|---|---|---|---|---|---|---|---|\n",
       "| AAACACCAATAACTGC-1_1 | ST_1M_AD_1_1 | 44392 | 7554 | L5      | AD | 1M | 1 |\n",
       "| AAACAGAGCGACTCCT-1_1 | ST_1M_AD_1_1 | 43837 | 8155 | PIR     | AD | 1M | 1 |\n",
       "| AAACCGGGTAGGTACC-1_1 | ST_1M_AD_1_1 | 38131 | 8183 | CA-2    | AD | 1M | 1 |\n",
       "| AAACCGTTCGTCCAGG-1_1 | ST_1M_AD_1_1 | 30094 | 6690 | CC      | AD | 1M | 1 |\n",
       "| AAACCTCATGAAGTTG-1_1 | ST_1M_AD_1_1 | 36160 | 7413 | TH-1    | AD | 1M | 1 |\n",
       "| AAACGAAGAACATACC-1_1 | ST_1M_AD_1_1 | 54396 | 8681 | sAMY    | AD | 1M | 1 |\n",
       "| AAACGAGACGGTTGAT-1_1 | ST_1M_AD_1_1 | 35128 | 6857 | STRD-2  | AD | 1M | 1 |\n",
       "| AAACTGCTGGCTCCAA-1_1 | ST_1M_AD_1_1 | 30042 | 6463 | CC      | AD | 1M | 1 |\n",
       "| AAACTTGCAAACGTAT-1_1 | ST_1M_AD_1_1 | 63338 | 8692 | CA-1    | AD | 1M | 1 |\n",
       "| AAAGACCCAAGTCGCG-1_1 | ST_1M_AD_1_1 | 31288 | 6987 | sAMY    | AD | 1M | 1 |\n",
       "| AAAGACTGGGCGCTTT-1_1 | ST_1M_AD_1_1 | 35772 | 7249 | TH-3    | AD | 1M | 1 |\n",
       "| AAAGGCCCTATAATAC-1_1 | ST_1M_AD_1_1 | 18966 | 5330 | L1      | AD | 1M | 1 |\n",
       "| AAAGGCTACGGACCAT-1_1 | ST_1M_AD_1_1 | 44242 | 7840 | L2/3    | AD | 1M | 1 |\n",
       "| AAAGGCTCTCGCGCCG-1_1 | ST_1M_AD_1_1 | 33312 | 7111 | L5      | AD | 1M | 1 |\n",
       "| AAAGGGATGTAGCAAG-1_1 | ST_1M_AD_1_1 | 17273 | 4610 | SI      | AD | 1M | 1 |\n",
       "| AAAGGGCAGCTTGAAT-1_1 | ST_1M_AD_1_1 | 16603 | 4853 | TH-2    | AD | 1M | 1 |\n",
       "| AAAGTAGCATTGCTCA-1_1 | ST_1M_AD_1_1 | 20603 | 5498 | CC      | AD | 1M | 1 |\n",
       "| AAAGTCACTGATGTAA-1_1 | ST_1M_AD_1_1 | 38070 | 7717 | sAMY    | AD | 1M | 1 |\n",
       "| AAAGTCGACCCTCAGT-1_1 | ST_1M_AD_1_1 | 57097 | 8806 | TH-1    | AD | 1M | 1 |\n",
       "| AAAGTGTGATTTATCT-1_1 | ST_1M_AD_1_1 | 26424 | 6230 | L4      | AD | 1M | 1 |\n",
       "| AAAGTTGACTCCCGTA-1_1 | ST_1M_AD_1_1 | 39014 | 7449 | L4      | AD | 1M | 1 |\n",
       "| AAATAACCATACGGGA-1_1 | ST_1M_AD_1_1 | 34149 | 7312 | CTXsp-1 | AD | 1M | 1 |\n",
       "| AAATACCTATAAGCAT-1_1 | ST_1M_AD_1_1 | 38916 | 7490 | L6      | AD | 1M | 1 |\n",
       "| AAATAGCTTAGACTTT-1_1 | ST_1M_AD_1_1 | 25414 | 6197 | L1      | AD | 1M | 1 |\n",
       "| AAATAGGGTGCTATTG-1_1 | ST_1M_AD_1_1 | 35023 | 7139 | L4      | AD | 1M | 1 |\n",
       "| AAATCGTGTACCACAA-1_1 | ST_1M_AD_1_1 | 19662 | 5404 | STRD-1  | AD | 1M | 1 |\n",
       "| AAATGCTCGTTACGTT-1_1 | ST_1M_AD_1_1 | 28773 | 6586 | HY      | AD | 1M | 1 |\n",
       "| AAATGGCATGTCTTGT-1_1 | ST_1M_AD_1_1 | 31435 | 6955 | sAMY    | AD | 1M | 1 |\n",
       "| AAATGGCCCGTGCCCT-1_1 | ST_1M_AD_1_1 | 30587 | 6691 | L5      | AD | 1M | 1 |\n",
       "| AAATGGTCAATGTGCC-1_1 | ST_1M_AD_1_1 | 29002 | 6668 | RT      | AD | 1M | 1 |\n",
       "| ⋮ | ⋮ | ⋮ | ⋮ | ⋮ | ⋮ | ⋮ | ⋮ |\n",
       "| TTGGACCATCTGGCAA-1_16 | ST_15M_WT_2_2 | 25201 | 6186 | PIR     | WT | 15M | 1 |\n",
       "| TTGGACCTATAACAGT-1_16 | ST_15M_WT_2_2 | 14220 | 4380 | PIR     | WT | 15M | 1 |\n",
       "| TTGGATATCGTCTACG-1_16 | ST_15M_WT_2_2 | 10342 | 3736 | STRD-2  | WT | 15M | 1 |\n",
       "| TTGGATTGGGTACCAC-1_16 | ST_15M_WT_2_2 | 12748 | 4144 | TH-1    | WT | 15M | 1 |\n",
       "| TTGGCCATCTTGCGCT-1_16 | ST_15M_WT_2_2 |  5689 | 2238 | Fxs+Int | WT | 15M | 1 |\n",
       "| TTGGCCTAGAATTTCG-1_16 | ST_15M_WT_2_2 | 14199 | 4743 | TH-3    | WT | 15M | 1 |\n",
       "| TTGGCTCGCATGAGAC-1_16 | ST_15M_WT_2_2 | 32509 | 7145 | DG      | WT | 15M | 1 |\n",
       "| TTGGGACACTGCCCGC-1_16 | ST_15M_WT_2_2 | 15773 | 4727 | DORsm   | WT | 15M | 1 |\n",
       "| TTGGGACGTAAGAGTT-1_16 | ST_15M_WT_2_2 | 22789 | 6090 | PIR     | WT | 15M | 1 |\n",
       "| TTGGGCGGCGGTTGCC-1_16 | ST_15M_WT_2_2 | 14024 | 4229 | DORsm   | WT | 15M | 1 |\n",
       "| TTGGTCACACTCGTAA-1_16 | ST_15M_WT_2_2 |  4936 | 2204 | STRD-1  | WT | 15M | 1 |\n",
       "| TTGGTTGCGGTGCGCG-1_16 | ST_15M_WT_2_2 | 22966 | 5753 | L2/3    | WT | 15M | 1 |\n",
       "| TTGTAAGGACCTAAGT-1_16 | ST_15M_WT_2_2 | 16829 | 5089 | L6      | WT | 15M | 1 |\n",
       "| TTGTAAGGCCAGTTGG-1_16 | ST_15M_WT_2_2 |  9103 | 3360 | TH-1    | WT | 15M | 1 |\n",
       "| TTGTAATCCGTACTCG-1_16 | ST_15M_WT_2_2 |  7961 | 3093 | RT      | WT | 15M | 1 |\n",
       "| TTGTATCACACAGAAT-1_16 | ST_15M_WT_2_2 | 12329 | 4274 | TH-1    | WT | 15M | 1 |\n",
       "| TTGTCGTTCAGTTACC-1_16 | ST_15M_WT_2_2 | 10515 | 3555 | TH-2    | WT | 15M | 1 |\n",
       "| TTGTGAACCTAATCCG-1_16 | ST_15M_WT_2_2 | 29825 | 6728 | PIR     | WT | 15M | 1 |\n",
       "| TTGTGAGGCATGACGC-1_16 | ST_15M_WT_2_2 | 19591 | 5390 | L4      | WT | 15M | 1 |\n",
       "| TTGTGCAGCCACGTCA-1_16 | ST_15M_WT_2_2 | 22032 | 5921 | L1      | WT | 15M | 1 |\n",
       "| TTGTGGCCCTGACAGT-1_16 | ST_15M_WT_2_2 | 13413 | 4546 | TH-3    | WT | 15M | 1 |\n",
       "| TTGTGGTAGGAGGGAT-1_16 | ST_15M_WT_2_2 | 21974 | 5712 | L5      | WT | 15M | 1 |\n",
       "| TTGTGTATGCCACCAA-1_16 | ST_15M_WT_2_2 | 22130 | 5747 | L5      | WT | 15M | 1 |\n",
       "| TTGTGTTTCCCGAAAG-1_16 | ST_15M_WT_2_2 | 14640 | 4729 | CTXsp-2 | WT | 15M | 1 |\n",
       "| TTGTTAGCAAATTCGA-1_16 | ST_15M_WT_2_2 | 14585 | 4371 | DG      | WT | 15M | 1 |\n",
       "| TTGTTCAGTGTGCTAC-1_16 | ST_15M_WT_2_2 | 19242 | 5370 | DORsm   | WT | 15M | 1 |\n",
       "| TTGTTCTAGATACGCT-1_16 | ST_15M_WT_2_2 | 25212 | 6074 | L5      | WT | 15M | 1 |\n",
       "| TTGTTGTGTGTCAAGA-1_16 | ST_15M_WT_2_2 | 12324 | 4125 | RT      | WT | 15M | 1 |\n",
       "| TTGTTTCACATCCAGG-1_16 | ST_15M_WT_2_2 | 15492 | 4625 | L2/3    | WT | 15M | 1 |\n",
       "| TTGTTTCCATACAACT-1_16 | ST_15M_WT_2_2 | 21445 | 5732 | L6      | WT | 15M | 1 |\n",
       "\n"
      ],
      "text/plain": [
       "                      orig.ident    nCount_Spatial nFeature_Spatial STAligner\n",
       "AAACACCAATAACTGC-1_1  ST_1M_AD_1_1  44392          7554             L5       \n",
       "AAACAGAGCGACTCCT-1_1  ST_1M_AD_1_1  43837          8155             PIR      \n",
       "AAACCGGGTAGGTACC-1_1  ST_1M_AD_1_1  38131          8183             CA-2     \n",
       "AAACCGTTCGTCCAGG-1_1  ST_1M_AD_1_1  30094          6690             CC       \n",
       "AAACCTCATGAAGTTG-1_1  ST_1M_AD_1_1  36160          7413             TH-1     \n",
       "AAACGAAGAACATACC-1_1  ST_1M_AD_1_1  54396          8681             sAMY     \n",
       "AAACGAGACGGTTGAT-1_1  ST_1M_AD_1_1  35128          6857             STRD-2   \n",
       "AAACTGCTGGCTCCAA-1_1  ST_1M_AD_1_1  30042          6463             CC       \n",
       "AAACTTGCAAACGTAT-1_1  ST_1M_AD_1_1  63338          8692             CA-1     \n",
       "AAAGACCCAAGTCGCG-1_1  ST_1M_AD_1_1  31288          6987             sAMY     \n",
       "AAAGACTGGGCGCTTT-1_1  ST_1M_AD_1_1  35772          7249             TH-3     \n",
       "AAAGGCCCTATAATAC-1_1  ST_1M_AD_1_1  18966          5330             L1       \n",
       "AAAGGCTACGGACCAT-1_1  ST_1M_AD_1_1  44242          7840             L2/3     \n",
       "AAAGGCTCTCGCGCCG-1_1  ST_1M_AD_1_1  33312          7111             L5       \n",
       "AAAGGGATGTAGCAAG-1_1  ST_1M_AD_1_1  17273          4610             SI       \n",
       "AAAGGGCAGCTTGAAT-1_1  ST_1M_AD_1_1  16603          4853             TH-2     \n",
       "AAAGTAGCATTGCTCA-1_1  ST_1M_AD_1_1  20603          5498             CC       \n",
       "AAAGTCACTGATGTAA-1_1  ST_1M_AD_1_1  38070          7717             sAMY     \n",
       "AAAGTCGACCCTCAGT-1_1  ST_1M_AD_1_1  57097          8806             TH-1     \n",
       "AAAGTGTGATTTATCT-1_1  ST_1M_AD_1_1  26424          6230             L4       \n",
       "AAAGTTGACTCCCGTA-1_1  ST_1M_AD_1_1  39014          7449             L4       \n",
       "AAATAACCATACGGGA-1_1  ST_1M_AD_1_1  34149          7312             CTXsp-1  \n",
       "AAATACCTATAAGCAT-1_1  ST_1M_AD_1_1  38916          7490             L6       \n",
       "AAATAGCTTAGACTTT-1_1  ST_1M_AD_1_1  25414          6197             L1       \n",
       "AAATAGGGTGCTATTG-1_1  ST_1M_AD_1_1  35023          7139             L4       \n",
       "AAATCGTGTACCACAA-1_1  ST_1M_AD_1_1  19662          5404             STRD-1   \n",
       "AAATGCTCGTTACGTT-1_1  ST_1M_AD_1_1  28773          6586             HY       \n",
       "AAATGGCATGTCTTGT-1_1  ST_1M_AD_1_1  31435          6955             sAMY     \n",
       "AAATGGCCCGTGCCCT-1_1  ST_1M_AD_1_1  30587          6691             L5       \n",
       "AAATGGTCAATGTGCC-1_1  ST_1M_AD_1_1  29002          6668             RT       \n",
       "⋮                     ⋮             ⋮              ⋮                ⋮        \n",
       "TTGGACCATCTGGCAA-1_16 ST_15M_WT_2_2 25201          6186             PIR      \n",
       "TTGGACCTATAACAGT-1_16 ST_15M_WT_2_2 14220          4380             PIR      \n",
       "TTGGATATCGTCTACG-1_16 ST_15M_WT_2_2 10342          3736             STRD-2   \n",
       "TTGGATTGGGTACCAC-1_16 ST_15M_WT_2_2 12748          4144             TH-1     \n",
       "TTGGCCATCTTGCGCT-1_16 ST_15M_WT_2_2  5689          2238             Fxs+Int  \n",
       "TTGGCCTAGAATTTCG-1_16 ST_15M_WT_2_2 14199          4743             TH-3     \n",
       "TTGGCTCGCATGAGAC-1_16 ST_15M_WT_2_2 32509          7145             DG       \n",
       "TTGGGACACTGCCCGC-1_16 ST_15M_WT_2_2 15773          4727             DORsm    \n",
       "TTGGGACGTAAGAGTT-1_16 ST_15M_WT_2_2 22789          6090             PIR      \n",
       "TTGGGCGGCGGTTGCC-1_16 ST_15M_WT_2_2 14024          4229             DORsm    \n",
       "TTGGTCACACTCGTAA-1_16 ST_15M_WT_2_2  4936          2204             STRD-1   \n",
       "TTGGTTGCGGTGCGCG-1_16 ST_15M_WT_2_2 22966          5753             L2/3     \n",
       "TTGTAAGGACCTAAGT-1_16 ST_15M_WT_2_2 16829          5089             L6       \n",
       "TTGTAAGGCCAGTTGG-1_16 ST_15M_WT_2_2  9103          3360             TH-1     \n",
       "TTGTAATCCGTACTCG-1_16 ST_15M_WT_2_2  7961          3093             RT       \n",
       "TTGTATCACACAGAAT-1_16 ST_15M_WT_2_2 12329          4274             TH-1     \n",
       "TTGTCGTTCAGTTACC-1_16 ST_15M_WT_2_2 10515          3555             TH-2     \n",
       "TTGTGAACCTAATCCG-1_16 ST_15M_WT_2_2 29825          6728             PIR      \n",
       "TTGTGAGGCATGACGC-1_16 ST_15M_WT_2_2 19591          5390             L4       \n",
       "TTGTGCAGCCACGTCA-1_16 ST_15M_WT_2_2 22032          5921             L1       \n",
       "TTGTGGCCCTGACAGT-1_16 ST_15M_WT_2_2 13413          4546             TH-3     \n",
       "TTGTGGTAGGAGGGAT-1_16 ST_15M_WT_2_2 21974          5712             L5       \n",
       "TTGTGTATGCCACCAA-1_16 ST_15M_WT_2_2 22130          5747             L5       \n",
       "TTGTGTTTCCCGAAAG-1_16 ST_15M_WT_2_2 14640          4729             CTXsp-2  \n",
       "TTGTTAGCAAATTCGA-1_16 ST_15M_WT_2_2 14585          4371             DG       \n",
       "TTGTTCAGTGTGCTAC-1_16 ST_15M_WT_2_2 19242          5370             DORsm    \n",
       "TTGTTCTAGATACGCT-1_16 ST_15M_WT_2_2 25212          6074             L5       \n",
       "TTGTTGTGTGTCAAGA-1_16 ST_15M_WT_2_2 12324          4125             RT       \n",
       "TTGTTTCACATCCAGG-1_16 ST_15M_WT_2_2 15492          4625             L2/3     \n",
       "TTGTTTCCATACAACT-1_16 ST_15M_WT_2_2 21445          5732             L6       \n",
       "                      if_disease month if_choose\n",
       "AAACACCAATAACTGC-1_1  AD         1M    1        \n",
       "AAACAGAGCGACTCCT-1_1  AD         1M    1        \n",
       "AAACCGGGTAGGTACC-1_1  AD         1M    1        \n",
       "AAACCGTTCGTCCAGG-1_1  AD         1M    1        \n",
       "AAACCTCATGAAGTTG-1_1  AD         1M    1        \n",
       "AAACGAAGAACATACC-1_1  AD         1M    1        \n",
       "AAACGAGACGGTTGAT-1_1  AD         1M    1        \n",
       "AAACTGCTGGCTCCAA-1_1  AD         1M    1        \n",
       "AAACTTGCAAACGTAT-1_1  AD         1M    1        \n",
       "AAAGACCCAAGTCGCG-1_1  AD         1M    1        \n",
       "AAAGACTGGGCGCTTT-1_1  AD         1M    1        \n",
       "AAAGGCCCTATAATAC-1_1  AD         1M    1        \n",
       "AAAGGCTACGGACCAT-1_1  AD         1M    1        \n",
       "AAAGGCTCTCGCGCCG-1_1  AD         1M    1        \n",
       "AAAGGGATGTAGCAAG-1_1  AD         1M    1        \n",
       "AAAGGGCAGCTTGAAT-1_1  AD         1M    1        \n",
       "AAAGTAGCATTGCTCA-1_1  AD         1M    1        \n",
       "AAAGTCACTGATGTAA-1_1  AD         1M    1        \n",
       "AAAGTCGACCCTCAGT-1_1  AD         1M    1        \n",
       "AAAGTGTGATTTATCT-1_1  AD         1M    1        \n",
       "AAAGTTGACTCCCGTA-1_1  AD         1M    1        \n",
       "AAATAACCATACGGGA-1_1  AD         1M    1        \n",
       "AAATACCTATAAGCAT-1_1  AD         1M    1        \n",
       "AAATAGCTTAGACTTT-1_1  AD         1M    1        \n",
       "AAATAGGGTGCTATTG-1_1  AD         1M    1        \n",
       "AAATCGTGTACCACAA-1_1  AD         1M    1        \n",
       "AAATGCTCGTTACGTT-1_1  AD         1M    1        \n",
       "AAATGGCATGTCTTGT-1_1  AD         1M    1        \n",
       "AAATGGCCCGTGCCCT-1_1  AD         1M    1        \n",
       "AAATGGTCAATGTGCC-1_1  AD         1M    1        \n",
       "⋮                     ⋮          ⋮     ⋮        \n",
       "TTGGACCATCTGGCAA-1_16 WT         15M   1        \n",
       "TTGGACCTATAACAGT-1_16 WT         15M   1        \n",
       "TTGGATATCGTCTACG-1_16 WT         15M   1        \n",
       "TTGGATTGGGTACCAC-1_16 WT         15M   1        \n",
       "TTGGCCATCTTGCGCT-1_16 WT         15M   1        \n",
       "TTGGCCTAGAATTTCG-1_16 WT         15M   1        \n",
       "TTGGCTCGCATGAGAC-1_16 WT         15M   1        \n",
       "TTGGGACACTGCCCGC-1_16 WT         15M   1        \n",
       "TTGGGACGTAAGAGTT-1_16 WT         15M   1        \n",
       "TTGGGCGGCGGTTGCC-1_16 WT         15M   1        \n",
       "TTGGTCACACTCGTAA-1_16 WT         15M   1        \n",
       "TTGGTTGCGGTGCGCG-1_16 WT         15M   1        \n",
       "TTGTAAGGACCTAAGT-1_16 WT         15M   1        \n",
       "TTGTAAGGCCAGTTGG-1_16 WT         15M   1        \n",
       "TTGTAATCCGTACTCG-1_16 WT         15M   1        \n",
       "TTGTATCACACAGAAT-1_16 WT         15M   1        \n",
       "TTGTCGTTCAGTTACC-1_16 WT         15M   1        \n",
       "TTGTGAACCTAATCCG-1_16 WT         15M   1        \n",
       "TTGTGAGGCATGACGC-1_16 WT         15M   1        \n",
       "TTGTGCAGCCACGTCA-1_16 WT         15M   1        \n",
       "TTGTGGCCCTGACAGT-1_16 WT         15M   1        \n",
       "TTGTGGTAGGAGGGAT-1_16 WT         15M   1        \n",
       "TTGTGTATGCCACCAA-1_16 WT         15M   1        \n",
       "TTGTGTTTCCCGAAAG-1_16 WT         15M   1        \n",
       "TTGTTAGCAAATTCGA-1_16 WT         15M   1        \n",
       "TTGTTCAGTGTGCTAC-1_16 WT         15M   1        \n",
       "TTGTTCTAGATACGCT-1_16 WT         15M   1        \n",
       "TTGTTGTGTGTCAAGA-1_16 WT         15M   1        \n",
       "TTGTTTCACATCCAGG-1_16 WT         15M   1        \n",
       "TTGTTTCCATACAACT-1_16 WT         15M   1        "
      ]
     },
     "metadata": {},
     "output_type": "display_data"
    }
   ],
   "source": [
    "# 过略掉没有聚类结果的点\n",
    "datas@meta.data$if_choose <- 1\n",
    "datas@meta.data[is.na(datas@meta.data$STAligner), 'if_choose'] <- 0\n",
    "datas@meta.data"
   ]
  },
  {
   "cell_type": "code",
   "execution_count": 7,
   "id": "31aa2636",
   "metadata": {
    "ExecuteTime": {
     "end_time": "2024-07-28T05:39:59.162509Z",
     "start_time": "2024-07-28T05:38:05.093Z"
    }
   },
   "outputs": [
    {
     "data": {
      "text/plain": [
       "An object of class Seurat \n",
       "32285 features across 42956 samples within 1 assay \n",
       "Active assay: Spatial (32285 features, 0 variable features)\n",
       " 16 images present: ST_1M_AD_1_1, ST_1M_AD_1_2, ST_1M_WT_1_1, ST_1M_WT_1_2, ST_3M_AD_1_1, ST_3M_AD_1_2, ST_3M_WT_1_1, ST_3M_WT_1_2, ST_6M_AD_2_1, ST_6M_AD_2_2, ST_6M_WT_2_1, ST_6M_WT_2_2, ST_15M_AD_2_1, ST_15M_AD_2_2, ST_15M_WT_2_1, ST_15M_WT_2_2"
      ]
     },
     "metadata": {},
     "output_type": "display_data"
    }
   ],
   "source": [
    "# 过滤掉不在组织切片上的点\n",
    "datas <- subset(datas, if_choose==1)\n",
    "datas"
   ]
  },
  {
   "cell_type": "markdown",
   "id": "7651ffb0",
   "metadata": {},
   "source": [
    "# 每个月份都计算一遍（重要！！！）"
   ]
  },
  {
   "cell_type": "code",
   "execution_count": 8,
   "id": "49cfdc06",
   "metadata": {
    "ExecuteTime": {
     "end_time": "2024-07-28T05:39:59.184247Z",
     "start_time": "2024-07-28T05:38:05.094Z"
    }
   },
   "outputs": [],
   "source": [
    "month_type <- '1M'"
   ]
  },
  {
   "cell_type": "code",
   "execution_count": 9,
   "id": "6ced3b6d",
   "metadata": {
    "ExecuteTime": {
     "end_time": "2024-07-28T05:40:02.531255Z",
     "start_time": "2024-07-28T05:38:05.095Z"
    }
   },
   "outputs": [],
   "source": [
    "datas <- subset(datas, month==month_type)\n",
    "# datas@meta.data"
   ]
  },
  {
   "cell_type": "markdown",
   "id": "7a23c54f",
   "metadata": {},
   "source": [
    "# 合并区域"
   ]
  },
  {
   "cell_type": "code",
   "execution_count": 10,
   "id": "b0d3d089",
   "metadata": {
    "ExecuteTime": {
     "end_time": "2024-07-28T05:40:02.552124Z",
     "start_time": "2024-07-28T05:38:05.096Z"
    }
   },
   "outputs": [],
   "source": [
    "# STAligner 空间域识别结果\n",
    "STAligner_results <- c('L2/3','CTXsp-1','DG','CA-2','sAMY','Fxs+Int','HY','PIR','L5',\n",
    "                       'CC','SI','TH-3','CA-1','L6','L1','VL','DORsm','TH-2','CTXsp-2',\n",
    "                       'TH-1','opt','STRD-1','L4','STRD-2','RT')"
   ]
  },
  {
   "cell_type": "code",
   "execution_count": 11,
   "id": "919ea875",
   "metadata": {
    "ExecuteTime": {
     "end_time": "2024-07-28T05:40:02.572366Z",
     "start_time": "2024-07-28T05:38:05.097Z"
    }
   },
   "outputs": [],
   "source": [
    "# 合并后的分区的名称\n",
    "re_region_name <- c('Cerebral cortex','Cerebral nuclei','Hippocampal region','Hippocampal region','Cerebral nuclei','fiber tracts','Hypothalamus','Cerebral cortex','Cerebral cortex',\n",
    "                    'fiber tracts','Cerebral nuclei','Thalamus','Hippocampal region','Cerebral cortex','Cerebral cortex','VL','Thalamus','Thalamus','Cerebral nuclei',\n",
    "                    'Thalamus','fiber tracts','Cerebral nuclei','Cerebral cortex','Cerebral nuclei','Thalamus')"
   ]
  },
  {
   "cell_type": "code",
   "execution_count": 12,
   "id": "392aed32",
   "metadata": {
    "ExecuteTime": {
     "end_time": "2024-07-28T05:40:02.593120Z",
     "start_time": "2024-07-28T05:38:05.098Z"
    }
   },
   "outputs": [],
   "source": [
    "datas@meta.data$STAligner <- plyr::mapvalues(datas@meta.data$STAligner, from = STAligner_results, to = re_region_name)"
   ]
  },
  {
   "cell_type": "markdown",
   "id": "6a506f92",
   "metadata": {},
   "source": [
    "# 按照是否患病分组"
   ]
  },
  {
   "cell_type": "code",
   "execution_count": 13,
   "id": "aaafa65d",
   "metadata": {
    "ExecuteTime": {
     "end_time": "2024-07-28T05:40:23.220242Z",
     "start_time": "2024-07-28T05:38:05.101Z"
    }
   },
   "outputs": [],
   "source": [
    "# 样本分组\n",
    "case_clusters = list()\n",
    "control_clusters = list()\n",
    "datas_case = subset(datas, if_disease=='AD')\n",
    "datas_control = subset(datas, if_disease=='WT')\n",
    "\n",
    "for (i in 1:length(unique(datas@meta.data$STAligner))) {\n",
    "    case_clusters[[i]] = subset(datas_case, STAligner==unique(datas@meta.data$STAligner)[i])\n",
    "    control_clusters[[i]] = subset(datas_control, STAligner==unique(datas@meta.data$STAligner)[i])\n",
    "}\n",
    "names(case_clusters) <- unique(datas@meta.data$STAligner)\n",
    "names(control_clusters) <- unique(datas@meta.data$STAligner)"
   ]
  },
  {
   "cell_type": "code",
   "execution_count": 14,
   "id": "00c174e0",
   "metadata": {
    "ExecuteTime": {
     "end_time": "2024-07-28T05:40:33.600929Z",
     "start_time": "2024-07-28T05:38:05.102Z"
    }
   },
   "outputs": [],
   "source": [
    "# 提取表达矩阵存放于列表之中\n",
    "data_count_case = list()\n",
    "data_count_control = list()\n",
    "\n",
    "# 提取计数矩阵, 并转化为dataframe 以便后续处理操作\n",
    "#  data @assays$RNA@counts存的是表达矩阵，  rownames (data @assays$RNA@meta.features)存的是相应的基因名\n",
    "for (i in 1:length(unique(datas@meta.data$STAligner))) {\n",
    "    data_count_case[[i]] = data.frame(case_clusters[[i]]@assays$Spatial@counts, row.names = rownames(case_clusters[[i]]@assays$Spatial@meta.features))\n",
    "    data_count_control[[i]] = data.frame(control_clusters[[i]]@assays$Spatial@counts, row.names = rownames(control_clusters[[i]]@assays$Spatial@meta.features))\n",
    "}"
   ]
  },
  {
   "cell_type": "code",
   "execution_count": 15,
   "id": "44d02869",
   "metadata": {
    "ExecuteTime": {
     "end_time": "2024-07-28T05:40:35.873692Z",
     "start_time": "2024-07-28T05:38:05.103Z"
    }
   },
   "outputs": [],
   "source": [
    "# # 记录基因表达量和的列表\n",
    "# gene_sum_case = list()\n",
    "# gene_sum_control = list()\n",
    "\n",
    "# # 按行求和： 也就是求每个基因的总表达量之和，然后重新创建一个dataframe，行名是基因，列名是样本， 也就是将矩阵压缩为一列\n",
    "# for (i in 1:length(unique(datas@meta.data$STAligner))) {\n",
    "#     gene_sum_case[[i]] = data.frame(rowSums(data_count_case[[i]]), row.names = rownames(data_count_case[[i]]))\n",
    "#     colnames(gene_sum_case[[i]]) = paste0('case_cluster_',i)\n",
    "#     gene_sum_control[[i]] = data.frame(rowSums(data_count_control[[i]]), row.names = rownames(data_count_control[[i]]))\n",
    "#     colnames(gene_sum_control[[i]]) = paste0('control_cluster_',i)\n",
    "# }\n",
    "# 记录基因表达量和的列表\n",
    "gene_sum_case = list()\n",
    "gene_sum_control = list()\n",
    "\n",
    "# 按行求和： 也就是求每个基因的总表达量之和，然后重新创建一个dataframe，行名是基因，列名是样本， 也就是将矩阵压缩为一列\n",
    "for (i in 1:length(unique(datas@meta.data$STAligner))) {\n",
    "    gene_sum_case[[i]] = data.frame(rowSums(data_count_case[[i]]), row.names = rownames(data_count_case[[i]]))\n",
    "#     colnames(gene_sum_case[[i]]) = paste0('AD_cluster_',i)\n",
    "    colnames(gene_sum_case[[i]]) = paste0('AD')\n",
    "    gene_sum_control[[i]] = data.frame(rowSums(data_count_control[[i]]), row.names = rownames(data_count_control[[i]]))\n",
    "#     colnames(gene_sum_control[[i]]) = paste0('WT_cluster_',i)\n",
    "    colnames(gene_sum_control[[i]]) = paste0('WT')\n",
    "}"
   ]
  },
  {
   "cell_type": "code",
   "execution_count": 16,
   "id": "772b3512",
   "metadata": {
    "ExecuteTime": {
     "end_time": "2024-07-28T05:41:10.715153Z",
     "start_time": "2024-07-28T05:38:05.107Z"
    }
   },
   "outputs": [
    {
     "name": "stdout",
     "output_type": "stream",
     "text": [
      "[1] \"第1个保存完毕\"\n",
      "[1] \"第2个保存完毕\"\n"
     ]
    },
    {
     "name": "stderr",
     "output_type": "stream",
     "text": [
      "Warning message:\n",
      "\"ggrepel: 8 unlabeled data points (too many overlaps). Consider increasing max.overlaps\"\n",
      "Warning message:\n",
      "\"ggrepel: 8 unlabeled data points (too many overlaps). Consider increasing max.overlaps\"\n"
     ]
    },
    {
     "name": "stdout",
     "output_type": "stream",
     "text": [
      "[1] \"第3个保存完毕\"\n",
      "[1] \"第4个保存完毕\"\n"
     ]
    },
    {
     "name": "stderr",
     "output_type": "stream",
     "text": [
      "Warning message:\n",
      "\"ggrepel: 5 unlabeled data points (too many overlaps). Consider increasing max.overlaps\"\n",
      "Warning message:\n",
      "\"ggrepel: 5 unlabeled data points (too many overlaps). Consider increasing max.overlaps\"\n"
     ]
    },
    {
     "name": "stdout",
     "output_type": "stream",
     "text": [
      "[1] \"第5个保存完毕\"\n"
     ]
    },
    {
     "name": "stderr",
     "output_type": "stream",
     "text": [
      "Warning message:\n",
      "\"ggrepel: 3 unlabeled data points (too many overlaps). Consider increasing max.overlaps\"\n",
      "Warning message:\n",
      "\"ggrepel: 5 unlabeled data points (too many overlaps). Consider increasing max.overlaps\"\n"
     ]
    },
    {
     "name": "stdout",
     "output_type": "stream",
     "text": [
      "[1] \"第6个保存完毕\"\n",
      "[1] \"第7个保存完毕\"\n"
     ]
    }
   ],
   "source": [
    "# 记录差异基因的列表\n",
    "DE_analyze_up = list()\n",
    "DE_analyze_down = list()\n",
    "\n",
    "# group = c('control', 'case')\n",
    "group <- c('WT', 'AD')\n",
    "\n",
    "for (i in 1:length(unique(datas@meta.data$STAligner))) {\n",
    "    # 将要差异表达的两个矩阵merge到一起， 按照原先的行名（也就是基因名）\n",
    "    count_after_merge = merge(gene_sum_case[[i]], gene_sum_control[[i]], by = 'row.names', all=TRUE)\n",
    "    # 由于merge完以后会添加一列（row.names），因此需要重新取出第一列作为行名\n",
    "    rownames(count_after_merge)=count_after_merge[,1]  \n",
    "    # 删除第一列\n",
    "    count_after_merge=count_after_merge[,-1]    \n",
    "    # 将NA值改为0\n",
    "    count_after_merge[is.na(count_after_merge)] = 0\n",
    "    \n",
    "    # 构建含有组别标记的DGEList\n",
    "    y <- edgeR::DGEList(counts=count_after_merge, group=group)\n",
    "\n",
    "    # 自动过滤低表达\n",
    "    keep.exprs<- edgeR::filterByExpr(y, group=group)\n",
    "    y <- y[keep.exprs,,keep.lib.sizes=FALSE]\n",
    "\n",
    "    # 归一化    归一化并不会直接在counts数值上修改，而是归一化系数会被自动存在y$samples$norm.factors!\n",
    "    y = edgeR::calcNormFactors(y)\n",
    "\n",
    "    # 指定一个dispersion值(设置BCV值)，这样得到的结果比较主观，不同的人就可以有不同的结果。通常如果是实验控制的好的人类数据，那么选择BCV=0.4，比较好的模式生物选择BCV=0.1\n",
    "    bcv = 0.1\n",
    "    gene_diff = edgeR::exactTest(y, dispersion=bcv^2)\n",
    "\n",
    "    markers <- gene_diff$table\n",
    "    markers$genes <- rownames(markers)\n",
    "#     break\n",
    "    #自定义阈值\n",
    "    log2FC = 0.75\n",
    "    padj = 0.05 \n",
    "\n",
    "    markers$threshold=\"ns\";\n",
    "    markers[which(markers$logFC  > log2FC & markers$PValue <padj),]$threshold=\"up\";\n",
    "    markers[which(markers$logFC  < (-log2FC) & markers$PValue < padj),]$threshold=\"down\";\n",
    "    markers$threshold=factor(markers$threshold, levels=c('down','ns','up'))\n",
    "    \n",
    "    # Identify the top 99% of points based on -log10(PValue)\n",
    "    bottom_5_percent <- quantile(markers$PValue, 0.001)\n",
    "    # 将大于阈值的数字都改成阈值\n",
    "    markers$PValue[markers$PValue < bottom_5_percent] <- bottom_5_percent\n",
    "#     markers <- subset(markers, PValue >= bottom_5_percent)\n",
    "#     print(paste0(\"第\", i, \"个markers处理完毕\"))\n",
    "    \n",
    "    # 对 Top10 打标签\n",
    "    top_logFC <- markers[order(markers$logFC), ][c(1:10, (nrow(markers)-9):nrow(markers)), ]\n",
    "#     top_neg_logPValue <- markers[order(markers$PValue), ][c(1:5), ]\n",
    "    \n",
    "    plot <- ggplot(data=markers, aes(x=logFC, y=-log10(PValue), color=threshold)) +\n",
    "              geom_point(alpha=0.8, size=0.8) +\n",
    "              geom_vline(xintercept = c(-log2FC, log2FC), linetype=2, color=\"grey\")+\n",
    "              geom_hline(yintercept = -log10(padj), linetype=2, color=\"grey\")+\n",
    "              #labs(title= ifelse(\"\"==title, \"\", paste(\"DEG:\", title)))+\n",
    "              xlab(bquote(Log[2]*FoldChange))+\n",
    "              ylab(bquote(-Log[10]*italic(PValue)) )+\n",
    "              theme_classic(base_size = 14) +\n",
    "              scale_color_manual('',labels=c(paste0(\"down(\",table(markers$threshold)[[1]],')'),'ns',\n",
    "                                             paste0(\"up(\",table(markers$threshold)[[3]],')' )),\n",
    "                                 values=c(\"blue\", \"grey\", \"red\"))+\n",
    "              guides(color=guide_legend(override.aes = list(size=3, alpha=1))) +\n",
    "              geom_text_repel(data=top_logFC, \n",
    "                aes(x = logFC, y = -log10(PValue), label = genes),\n",
    "                box.padding = 0.1, \n",
    "                point.padding = 0.1,\n",
    "                segment.color = \"grey\",\n",
    "                segment.size = 0.2,\n",
    "                segment.alpha = 0.5,\n",
    "                direction = \"y\",\n",
    "                force = 0.5,\n",
    "                size = 1.5,\n",
    "                color = \"black\")\n",
    "#               geom_text(data=top_logFC, \n",
    "#                           aes(x = logFC, y = -log10(PValue), label = genes),\n",
    "#                           vjust = 0, \n",
    "#                           hjust = 0,\n",
    "#                           size=1.5,\n",
    "#                           color = \"black\") + \n",
    "#               geom_text(data=top_neg_logPValue, \n",
    "#                           aes(x = logFC, y = -log10(PValue), label = genes),\n",
    "#                           vjust = 0, \n",
    "#                           hjust = 0,\n",
    "#                           size=1.5,\n",
    "#                           color = \"black\")\n",
    "    \n",
    "    if( !dir.exists(paste0(\"./results/读取edgeR找出的不同合并域的差异基因再画火山图/\", month_type)) ) {\n",
    "        dir.create(paste0(\"./results/读取edgeR找出的不同合并域的差异基因再画火山图/\", month_type), recursive = TRUE)\n",
    "    }\n",
    "    ggsave(paste0(\"./results/读取edgeR找出的不同合并域的差异基因再画火山图/\", month_type, \"/区域\",  unique(datas@meta.data$STAligner)[i], \".pdf\"), \n",
    "           plot, dpi = 600,\n",
    "         height = 7, width = 7, limitsize = FALSE)\n",
    "    ggsave(paste0(\"./results/读取edgeR找出的不同合并域的差异基因再画火山图/\", month_type, \"/区域\",  unique(datas@meta.data$STAligner)[i], \".png\"), \n",
    "           plot, dpi = 600,\n",
    "         height = 7, width = 7, limitsize = FALSE)\n",
    "    \n",
    "    print(paste0(\"第\", i, \"个保存完毕\"))\n",
    "}"
   ]
  },
  {
   "cell_type": "markdown",
   "id": "c682c633",
   "metadata": {},
   "source": [
    "# 多组学差异基因绘图"
   ]
  },
  {
   "cell_type": "code",
   "execution_count": null,
   "id": "3051e965",
   "metadata": {
    "ExecuteTime": {
     "start_time": "2024-07-28T05:59:16.619Z"
    }
   },
   "outputs": [],
   "source": [
    "# 读取多组学数据\n",
    "datas_all <- readRDS('D:/Users/zyzhang/Alzheimer/multiome/Batch1&Batch2/绘制差异基因与差异peaks的图/RNA&ATAC_cluster_batch1&batch2.RDS')\n",
    "datas_all"
   ]
  },
  {
   "cell_type": "code",
   "execution_count": null,
   "id": "37dc0068",
   "metadata": {
    "ExecuteTime": {
     "start_time": "2024-07-28T05:59:16.621Z"
    }
   },
   "outputs": [],
   "source": [
    "# gene_all <- data.frame()\n",
    "\n",
    "# for (i in 1:length(datas)) {\n",
    "#     gene <- datas[[i]]\n",
    "#     gene$X <- rownames(gene)\n",
    "#     rownames(gene) <- NULL\n",
    "#     gene$month_type <- strsplit(names(datas)[i], '_')[[1]][1]\n",
    "#     gene$cluster_name <- strsplit(names(datas)[i], '_')[[1]][2]\n",
    "#     gene$sig <- strsplit(names(datas)[i], '_')[[1]][3]\n",
    "#     gene_all <- rbind(gene_all, gene)         \n",
    "# }"
   ]
  },
  {
   "cell_type": "code",
   "execution_count": null,
   "id": "f8e6720d",
   "metadata": {
    "ExecuteTime": {
     "start_time": "2024-07-28T05:59:16.623Z"
    }
   },
   "outputs": [],
   "source": [
    "datas_all@meta.data$cell_type <- plyr::mapvalues(datas_all@meta.data$seurat_clusters, from = c(1:19),\n",
    "                                                 to = c(\"Oli\", \"Exc\", \"Exc\", \"Exc\", \"Mic\", \n",
    "                                                        \"Exc\", \"Inh\", \"Inh\",  \"Exc\", \"Inh\", \n",
    "                                                        \"Inh\", \"Inh\", \"Exc\", \"Exc\", \"Exc\", \n",
    "                                                        \"Exc\", \"OPC\", \"Exc\", \"Exc\"))"
   ]
  },
  {
   "cell_type": "code",
   "execution_count": null,
   "id": "6819baf8",
   "metadata": {
    "ExecuteTime": {
     "start_time": "2024-07-28T05:59:16.624Z"
    }
   },
   "outputs": [],
   "source": [
    "datas_all@meta.data$month_type <- substr(datas_all@meta.data$orig.ident, 2, 3)\n",
    "datas_all@meta.data$if_disease <- substr(datas_all@meta.data$orig.ident, 4, 4)"
   ]
  },
  {
   "cell_type": "code",
   "execution_count": null,
   "id": "3cda9fb1",
   "metadata": {
    "ExecuteTime": {
     "start_time": "2024-07-28T05:59:16.625Z"
    }
   },
   "outputs": [],
   "source": [
    "datas_all@meta.data$month_type <- plyr::mapvalues(datas_all@meta.data$month_type, \n",
    "                                                  from = c('01','03','06','15'), \n",
    "                                                  to = c('1M', '3M', '6M', '15M'))"
   ]
  },
  {
   "cell_type": "code",
   "execution_count": null,
   "id": "0d70e8db",
   "metadata": {
    "ExecuteTime": {
     "start_time": "2024-07-28T05:59:16.626Z"
    }
   },
   "outputs": [],
   "source": [
    "datas_all@meta.data$if_disease <- plyr::mapvalues(datas_all@meta.data$if_disease, \n",
    "                                                  from = c('A','W'), \n",
    "                                                  to = c('AD', 'WT'))"
   ]
  },
  {
   "cell_type": "code",
   "execution_count": null,
   "id": "04268a3f",
   "metadata": {
    "ExecuteTime": {
     "start_time": "2024-07-28T05:59:16.627Z"
    }
   },
   "outputs": [],
   "source": [
    "datas_all <- subset(datas_all, month_type==month_type)"
   ]
  },
  {
   "cell_type": "markdown",
   "id": "6f947e1a",
   "metadata": {},
   "source": [
    "# 按照是否患病分组"
   ]
  },
  {
   "cell_type": "code",
   "execution_count": null,
   "id": "c5196239",
   "metadata": {
    "ExecuteTime": {
     "start_time": "2024-07-28T05:59:16.628Z"
    }
   },
   "outputs": [],
   "source": [
    "# 样本分组\n",
    "case_clusters = list()\n",
    "control_clusters = list()\n",
    "datas_all_case = subset(datas_all, if_disease=='AD')\n",
    "datas_all_control = subset(datas_all, if_disease=='WT')\n",
    "\n",
    "for (i in 1:length(unique(datas_all@meta.data$cell_type))) {\n",
    "    case_clusters[[i]] = subset(datas_all_case, cell_type==unique(datas_all@meta.data$cell_type)[i])\n",
    "    control_clusters[[i]] = subset(datas_all_control, cell_type==unique(datas_all@meta.data$cell_type)[i])\n",
    "}\n",
    "names(case_clusters) <- unique(datas_all@meta.data$cell_type)\n",
    "names(control_clusters) <- unique(datas_all@meta.data$cell_type)"
   ]
  },
  {
   "cell_type": "code",
   "execution_count": null,
   "id": "c7b5f135",
   "metadata": {
    "ExecuteTime": {
     "start_time": "2024-07-28T05:59:16.629Z"
    }
   },
   "outputs": [],
   "source": [
    "# 提取表达矩阵存放于列表之中\n",
    "data_count_case = list()\n",
    "data_count_control = list()\n",
    "\n",
    "# 提取计数矩阵, 并转化为dataframe 以便后续处理操作\n",
    "#  data @assays$RNA@counts存的是表达矩阵，  rownames (data @assays$RNA@meta.features)存的是相应的基因名\n",
    "for (i in 1:length(unique(datas_all@meta.data$cell_type))) {\n",
    "    data_count_case[[i]] = data.frame(case_clusters[[i]]@assays$RNA@counts, row.names = rownames(case_clusters[[i]]@assays$RNA@meta.features))\n",
    "    data_count_control[[i]] = data.frame(control_clusters[[i]]@assays$RNA@counts, row.names = rownames(control_clusters[[i]]@assays$RNA@meta.features))\n",
    "}"
   ]
  },
  {
   "cell_type": "code",
   "execution_count": null,
   "id": "7a5d983b",
   "metadata": {
    "ExecuteTime": {
     "start_time": "2024-07-28T05:59:16.630Z"
    }
   },
   "outputs": [],
   "source": [
    "# # 记录基因表达量和的列表\n",
    "# gene_sum_case = list()\n",
    "# gene_sum_control = list()\n",
    "\n",
    "# # 按行求和： 也就是求每个基因的总表达量之和，然后重新创建一个dataframe，行名是基因，列名是样本， 也就是将矩阵压缩为一列\n",
    "# for (i in 1:length(unique(datas_all@meta.data$cell_type))) {\n",
    "#     gene_sum_case[[i]] = data.frame(rowSums(data_count_case[[i]]), row.names = rownames(data_count_case[[i]]))\n",
    "#     colnames(gene_sum_case[[i]]) = paste0('case_cluster_',i)\n",
    "#     gene_sum_control[[i]] = data.frame(rowSums(data_count_control[[i]]), row.names = rownames(data_count_control[[i]]))\n",
    "#     colnames(gene_sum_control[[i]]) = paste0('control_cluster_',i)\n",
    "# }\n",
    "# 记录基因表达量和的列表\n",
    "gene_sum_case = list()\n",
    "gene_sum_control = list()\n",
    "\n",
    "# 按行求和： 也就是求每个基因的总表达量之和，然后重新创建一个dataframe，行名是基因，列名是样本， 也就是将矩阵压缩为一列\n",
    "for (i in 1:length(unique(datas_all@meta.data$cell_type))) {\n",
    "    gene_sum_case[[i]] = data.frame(rowSums(data_count_case[[i]]), row.names = rownames(data_count_case[[i]]))\n",
    "#     colnames(gene_sum_case[[i]]) = paste0('case_cluster_',i)\n",
    "    colnames(gene_sum_case[[i]]) = paste0('case')\n",
    "    gene_sum_control[[i]] = data.frame(rowSums(data_count_control[[i]]), row.names = rownames(data_count_control[[i]]))\n",
    "#     colnames(gene_sum_control[[i]]) = paste0('control_cluster_',i)\n",
    "    colnames(gene_sum_control[[i]]) = paste0('control')\n",
    "}"
   ]
  },
  {
   "cell_type": "code",
   "execution_count": null,
   "id": "ae251a20",
   "metadata": {
    "ExecuteTime": {
     "start_time": "2024-07-28T05:59:16.631Z"
    }
   },
   "outputs": [],
   "source": [
    "# 记录差异基因的列表\n",
    "DE_analyze_up = list()\n",
    "DE_analyze_down = list()\n",
    "\n",
    "group = c('control', 'case')\n",
    "\n",
    "for (i in 1:length(unique(datas_all@meta.data$cell_type))) {\n",
    "    # 将要差异表达的两个矩阵merge到一起， 按照原先的行名（也就是基因名）\n",
    "    count_after_merge = merge(gene_sum_case[[i]], gene_sum_control[[i]], by = 'row.names', all=TRUE)\n",
    "    # 由于merge完以后会添加一列（row.names），因此需要重新取出第一列作为行名\n",
    "    rownames(count_after_merge)=count_after_merge[,1]  \n",
    "    # 删除第一列\n",
    "    count_after_merge=count_after_merge[,-1]    \n",
    "    # 将NA值改为0\n",
    "    count_after_merge[is.na(count_after_merge)] = 0\n",
    "    \n",
    "    # 构建含有组别标记的DGEList\n",
    "    y <- edgeR::DGEList(counts=count_after_merge, group=group)\n",
    "\n",
    "    # 自动过滤低表达\n",
    "    keep.exprs<- edgeR::filterByExpr(y, group=group)\n",
    "    y <- y[keep.exprs,,keep.lib.sizes=FALSE]\n",
    "\n",
    "    # 归一化    归一化并不会直接在counts数值上修改，而是归一化系数会被自动存在y$samples$norm.factors!\n",
    "    y = edgeR::calcNormFactors(y)\n",
    "\n",
    "    # 指定一个dispersion值(设置BCV值)，这样得到的结果比较主观，不同的人就可以有不同的结果。通常如果是实验控制的好的人类数据，那么选择BCV=0.4，比较好的模式生物选择BCV=0.1\n",
    "    bcv = 0.1\n",
    "    gene_diff = edgeR::exactTest(y, dispersion=bcv^2)\n",
    "\n",
    "    markers <- gene_diff$table\n",
    "    markers$genes <- rownames(markers)\n",
    "    \n",
    "#     break\n",
    "    #自定义阈值\n",
    "    log2FC = 0.75\n",
    "    padj = 0.05 \n",
    "\n",
    "    markers$threshold=\"ns\";\n",
    "    markers[which(markers$logFC  > log2FC & markers$PValue <padj),]$threshold=\"up\";\n",
    "    markers[which(markers$logFC  < (-log2FC) & markers$PValue < padj),]$threshold=\"down\";\n",
    "    markers$threshold=factor(markers$threshold, levels=c('down','ns','up'))\n",
    "    \n",
    "    \n",
    "    # Identify the top 99% of points based on -log10(PValue)\n",
    "    bottom_5_percent <- quantile(markers$PValue, 0.001)\n",
    "    # 将大于阈值的数字都改成阈值\n",
    "    markers$PValue[markers$PValue < bottom_5_percent] <- bottom_5_percent\n",
    "#     markers <- subset(markers, PValue >= bottom_5_percent)\n",
    "#     print(paste0(\"第\", i, \"个markers处理完毕\"))\n",
    "    \n",
    "    # 对 Top10 打标签\n",
    "    top_logFC <- markers[order(markers$logFC), ][c(1:10, (nrow(markers)-9):nrow(markers)), ]\n",
    "#     top_neg_logPValue <- markers[order(markers$PValue), ][c(1:5), ]\n",
    "    \n",
    "    plot <- ggplot(data=markers, aes(x=logFC, y=-log10(PValue), color=threshold)) +\n",
    "              geom_point(alpha=0.8, size=0.8) +\n",
    "              geom_vline(xintercept = c(-log2FC, log2FC), linetype=2, color=\"grey\")+\n",
    "              geom_hline(yintercept = -log10(padj), linetype=2, color=\"grey\")+\n",
    "              #labs(title= ifelse(\"\"==title, \"\", paste(\"DEG:\", title)))+\n",
    "              xlab(bquote(Log[2]*FoldChange))+\n",
    "              ylab(bquote(-Log[10]*italic(PValue)) )+\n",
    "              theme_classic(base_size = 14) +\n",
    "              scale_color_manual('',labels=c(paste0(\"down(\",table(markers$threshold)[[1]],')'),'ns',\n",
    "                                             paste0(\"up(\",table(markers$threshold)[[3]],')' )),\n",
    "                                 values=c(\"blue\", \"grey\", \"red\"))+\n",
    "              guides(color=guide_legend(override.aes = list(size=3, alpha=1))) +\n",
    "              geom_text_repel(data=top_logFC, \n",
    "                aes(x = logFC, y = -log10(PValue), label = genes),\n",
    "                box.padding = 0.1, \n",
    "                point.padding = 0.1,\n",
    "                segment.color = \"grey\",\n",
    "                segment.size = 0.2,\n",
    "                segment.alpha = 0.5,\n",
    "                direction = \"y\",\n",
    "                force = 0.5,\n",
    "                size = 1.5,\n",
    "                color = \"black\")\n",
    "#               geom_text(data=top_logFC, \n",
    "#                           aes(x = logFC, y = -log10(PValue), label = genes),\n",
    "#                           vjust = 0, \n",
    "#                           hjust = 0,\n",
    "#                           size=1.5,\n",
    "#                           color = \"black\") + \n",
    "#               geom_text(data=top_neg_logPValue, \n",
    "#                           aes(x = logFC, y = -log10(PValue), label = genes),\n",
    "#                           vjust = 0, \n",
    "#                           hjust = 0,\n",
    "#                           size=1.5,\n",
    "#                           color = \"black\")\n",
    "#     break\n",
    "    \n",
    "    if( !dir.exists(paste0(\"./results/读取edgeR找出的不同细胞类型的差异基因再画火山图/\", month_type)) ) {\n",
    "        dir.create(paste0(\"./results/读取edgeR找出的不同细胞类型的差异基因再画火山图/\", month_type)))\n",
    "    }\n",
    "    ggsave(paste0(\"./results/读取edgeR找出的不同细胞类型的差异基因再画火山图/\", month_type, \"/细胞类型\", \n",
    "                  unique(datas_all@meta.data$cell_type)[i], \".pdf\"), \n",
    "           plot, dpi = 600,\n",
    "         height = 7, width = 7, limitsize = FALSE)\n",
    "    ggsave(paste0(\"./results/读取edgeR找出的不同细胞类型的差异基因再画火山图/\", month_type, \"/细胞类型\", \n",
    "                  unique(datas_all@meta.data$cell_type)[i], \".png\"), \n",
    "           plot, dpi = 600,\n",
    "         height = 7, width = 7, limitsize = FALSE)\n",
    "    \n",
    "    print(paste0(\"第\", i, \"个保存完毕\"))\n",
    "}"
   ]
  }
 ],
 "metadata": {
  "hide_input": false,
  "kernelspec": {
   "display_name": "R",
   "language": "R",
   "name": "ir"
  },
  "language_info": {
   "codemirror_mode": "r",
   "file_extension": ".r",
   "mimetype": "text/x-r-source",
   "name": "R",
   "pygments_lexer": "r",
   "version": "4.2.1"
  },
  "toc": {
   "base_numbering": 1,
   "nav_menu": {},
   "number_sections": true,
   "sideBar": true,
   "skip_h1_title": false,
   "title_cell": "Table of Contents",
   "title_sidebar": "Contents",
   "toc_cell": false,
   "toc_position": {
    "height": "calc(100% - 180px)",
    "left": "10px",
    "top": "150px",
    "width": "305.6px"
   },
   "toc_section_display": true,
   "toc_window_display": true
  },
  "varInspector": {
   "cols": {
    "lenName": 16,
    "lenType": 16,
    "lenVar": 40
   },
   "kernels_config": {
    "python": {
     "delete_cmd_postfix": "",
     "delete_cmd_prefix": "del ",
     "library": "var_list.py",
     "varRefreshCmd": "print(var_dic_list())"
    },
    "r": {
     "delete_cmd_postfix": ") ",
     "delete_cmd_prefix": "rm(",
     "library": "var_list.r",
     "varRefreshCmd": "cat(var_dic_list()) "
    }
   },
   "types_to_exclude": [
    "module",
    "function",
    "builtin_function_or_method",
    "instance",
    "_Feature"
   ],
   "window_display": false
  }
 },
 "nbformat": 4,
 "nbformat_minor": 5
}
