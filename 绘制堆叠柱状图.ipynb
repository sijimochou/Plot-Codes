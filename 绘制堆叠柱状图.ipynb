# pt.pl.coda.stacked_barplot(
#     sccoda_data, modality_key="coda", feature_name="tumor_type", figsize=(2, 2)
# )
# plt.xticks(fontsize=10)
# plt.yticks(fontsize=10)
# plt.ylabel('Prop',fontsize=11)
# plt.legend(bbox_to_anchor=(1.05,1),fontsize=10)
# plt.show()
import matplotlib.pyplot as plt
from matplotlib.patches import Patch
import seaborn as sns

# 获取之前 UMAP 图中细胞类型的颜色映射关系
cell_type_colors = adata.uns['cell_type_colors']

# 绘制细胞类型堆叠柱状图
crosstab = pd.crosstab(adata.obs['tumor_type'], adata.obs['cell_type'], normalize='index')
crosstab = crosstab.loc[['non-tumor', 'primary', 'metastasis'], :]

ax = crosstab.plot(kind='bar', xlabel='', stacked=True, color=cell_type_colors)

# 设置主题风格为 ggplot2
sns.set_style("ticks")

# 设置图例的颜色
handles, labels = ax.get_legend_handles_labels()

# 创建带有指定颜色的图例条目
color_handles = [Patch(color=cell_type_colors[i], label=label) for i, label in enumerate(labels)]

# 去掉中间的网格线
ax.grid(False)
# 更新图例
ax.legend(handles=color_handles, loc='upper left', bbox_to_anchor=(1, 1), prop={'size': 8},
          title='Cell Type', title_fontsize=8, frameon=False)

# 调整 x 轴标签的大小和角度
plt.xticks(rotation=45, fontsize=8)

plt.savefig(f"./结果图/细胞类型比例.png", bbox_inches='tight', dpi=300)
plt.savefig(f"./结果图/细胞类型比例.pdf", bbox_inches='tight', dpi=300)
plt.show()
