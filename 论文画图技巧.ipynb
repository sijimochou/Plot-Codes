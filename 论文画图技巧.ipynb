{
 "cells": [
  {
   "cell_type": "markdown",
   "metadata": {},
   "source": [
    "# ggarrang()  可以将多个 ggplot2的图进行排列"
   ]
  },
  {
   "cell_type": "code",
   "execution_count": null,
   "metadata": {
    "vscode": {
     "languageId": "r"
    }
   },
   "outputs": [],
   "source": [
    "library(ggpubr)\n",
    "\n",
    "p <- ggarrange(ggarrange(p1, p2,\n",
    "                         ncol = 2, labels = c(\"a\", \"b\"),\n",
    "                         widths = c(0.6,0.4)),\n",
    "               ggarrange(p3, p4, p5,\n",
    "                         ncol = 3, labels = c(\"c\", \"d\",\"e\"),\n",
    "                         widths = c(0.35,0.35,0.3)),\n",
    "               nrow = 2, heights = c(0.4,0.6))\n",
    "               \n",
    "p"
   ]
  }
 ],
 "metadata": {
  "language_info": {
   "name": "python"
  }
 },
 "nbformat": 4,
 "nbformat_minor": 2
}
