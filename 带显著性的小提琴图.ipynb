{
 "cells": [
  {
   "cell_type": "code",
   "execution_count": null,
   "metadata": {
    "vscode": {
     "languageId": "r"
    }
   },
   "outputs": [],
   "source": [
    "# 加载需要的库\n",
    "library(ggpubr)\n",
    "library(dplyr)\n",
    "library(rstatix)\n",
    "library(broom)\n",
    "\n",
    "# 计算每个细胞类型中,患病组和正常组之间的显著性\n",
    "df <- datas_merge@meta.data\n",
    "\n",
    "# 绘制分组小提琴图,并添加显著性星号\n",
    "ggplot(df, aes(x = cell_type, y = all_deg_sig, fill = type)) +\n",
    "  geom_violin() +\n",
    "  stat_compare_means(aes(group=type),\n",
    "                     method = \"wilcox.test\",\n",
    "                     symnum.args = list(cutpoint=c(0, 0.0001, 0.001, 0.01, 1),\n",
    "                                        symbols=c(\"***\", \"**\", \"*\", \"ns\")),\n",
    "                     hide.ns = TRUE,\n",
    "                     label = \"p.signif\",\n",
    "                     label.y = max(df$all_deg_sig) + 0.05,  # 添加显著性符号的位置\n",
    "                     size=4.5) +     \n",
    "  labs(x = \"Cell Type\", y = \"all_deg_sig\") +\n",
    "  theme_classic()"
   ]
  }
 ],
 "metadata": {
  "language_info": {
   "name": "python"
  }
 },
 "nbformat": 4,
 "nbformat_minor": 2
}
