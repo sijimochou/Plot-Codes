{
 "cells": [
  {
   "cell_type": "code",
   "execution_count": null,
   "metadata": {},
   "outputs": [],
   "source": [
    "import matplotlib.pyplot as plt\n",
    "from matplotlib.patches import Patch\n",
    "import seaborn as sns\n",
    "\n",
    "# pt.pl.coda.stacked_barplot(\n",
    "#     sccoda_data, modality_key=\"coda\", feature_name=\"tumor_type\", figsize=(2, 2)\n",
    "# )\n",
    "# plt.xticks(fontsize=10)\n",
    "# plt.yticks(fontsize=10)\n",
    "# plt.ylabel('Prop',fontsize=11)\n",
    "# plt.legend(bbox_to_anchor=(1.05,1),fontsize=10)\n",
    "# plt.show()\n",
    "import matplotlib.pyplot as plt\n",
    "from matplotlib.patches import Patch\n",
    "import seaborn as sns\n",
    "\n",
    "# 获取之前 UMAP 图中细胞类型的颜色映射关系\n",
    "cell_type_colors = adata.uns['cell_type_colors']\n",
    "\n",
    "# 绘制细胞类型堆叠柱状图\n",
    "crosstab = pd.crosstab(adata.obs['tumor_type'], adata.obs['cell_type'], normalize='index')\n",
    "crosstab = crosstab.loc[['non-tumor', 'primary', 'metastasis'], :]\n",
    "\n",
    "ax = crosstab.plot(kind='bar', xlabel='', stacked=True, color=cell_type_colors)\n",
    "\n",
    "# 设置主题风格为 ggplot2\n",
    "sns.set_style(\"ticks\")\n",
    "\n",
    "# 设置图例的颜色\n",
    "handles, labels = ax.get_legend_handles_labels()\n",
    "\n",
    "# 创建带有指定颜色的图例条目\n",
    "color_handles = [Patch(color=cell_type_colors[i], label=label) for i, label in enumerate(labels)]\n",
    "\n",
    "# 去掉中间的网格线\n",
    "ax.grid(False)\n",
    "# 更新图例\n",
    "ax.legend(handles=color_handles, loc='upper left', bbox_to_anchor=(1, 1), prop={'size': 8},\n",
    "          title='Cell Type', title_fontsize=8, frameon=False)\n",
    "\n",
    "# 调整 x 轴标签的大小和角度\n",
    "plt.xticks(rotation=45, fontsize=8)\n",
    "\n",
    "plt.savefig(f\"./结果图/细胞类型比例.png\", bbox_inches='tight', dpi=300)\n",
    "plt.savefig(f\"./结果图/细胞类型比例.pdf\", bbox_inches='tight', dpi=300)\n",
    "plt.show()\n"
   ]
  }
 ],
 "metadata": {
  "language_info": {
   "name": "python"
  }
 },
 "nbformat": 4,
 "nbformat_minor": 2
}
