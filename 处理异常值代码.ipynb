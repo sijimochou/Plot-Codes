{
 "cells": [
  {
   "cell_type": "markdown",
   "metadata": {
    "collapsed": true
   },
   "source": [
    "# 异常检验与处理"
   ]
  },
  {
   "cell_type": "code",
   "execution_count": 2,
   "metadata": {
    "ExecuteTime": {
     "end_time": "2024-07-15T06:41:53.955175Z",
     "start_time": "2024-07-15T06:41:51.840759Z"
    }
   },
   "outputs": [],
   "source": [
    "import pandas as pd\n",
    "from sklearn.metrics import mean_squared_error\n",
    "import matplotlib.pyplot as plt"
   ]
  },
  {
   "cell_type": "code",
   "execution_count": 3,
   "metadata": {
    "ExecuteTime": {
     "end_time": "2024-07-15T06:56:07.331098Z",
     "start_time": "2024-07-15T06:56:07.304133Z"
    },
    "run_control": {
     "marked": false
    }
   },
   "outputs": [],
   "source": [
    "# 基于岭回归将异常值去除\n",
    "def find_outliers(model, X, y, sigma=3):\n",
    "    \n",
    "    # 预测模型\n",
    "    try:\n",
    "        y_pred = pd.Series(model.predict(X), index=y.index)\n",
    "    except:\n",
    "        # 预测失败，就先调整模型\n",
    "        model.fit(X, y)\n",
    "        y_pred = pd.Series(model.predict(X), index=y.index)\n",
    "    \n",
    "    # 计算预测和真实的偏差\n",
    "    resid = y - y_pred  \n",
    "    mean_resid = resid.mean()\n",
    "    std_resid = resid.std()\n",
    "    \n",
    "    # 计算 z-score\n",
    "    z = (resid - mean_resid) / std_resid\n",
    "    \n",
    "    outliers = z[abs(z)>sigma].index\n",
    "    \n",
    "    if len(outliers) == 0:\n",
    "        print(\"未发现异常值\")\n",
    "        return []  # 返回空列表\n",
    "    \n",
    "    else:\n",
    "        # 计算 R方 和 MSE\n",
    "        print(f\"R2 = {model.score(X, y)}\")\n",
    "        print(f\"MSE = {mean_squared_error(y, y_pred)}\")\n",
    "        print(f\"----------------------------------------\")\n",
    "\n",
    "        print(f\"mean_resid = {mean_resid}\")\n",
    "        print(f\"std_resid = {std_resid}\")\n",
    "        print(f\"----------------------------------------\")\n",
    "\n",
    "        print(f\"outliers数量: {len(outliers)}\")\n",
    "        print(f\"outliers: {outliers.tolist()}\")\n",
    "        print(f\"----------------------------------------\")\n",
    "\n",
    "        plt.figure(figsize=(15, 5))\n",
    "        ax_131 = plt.subplot(1, 3, 1)\n",
    "        plt.plot(y, y_pred, '.')\n",
    "        plt.plot(y.loc[outliers, ], y_pred.loc[outliers, ], 'ro')\n",
    "        plt.legend(['Accepted', 'Outlier'])\n",
    "        plt.xlabel('y')\n",
    "        plt.ylabel('y_pred')\n",
    "\n",
    "        ax_132 = plt.subplot(1, 3, 2)\n",
    "        plt.plot(y, y-y_pred, '.')\n",
    "        plt.plot(y.loc[outliers, ], y.loc[outliers, ]-y_pred.loc[outliers, ], 'ro')\n",
    "        plt.legend(['Accepted', 'Outlier'])\n",
    "        plt.xlabel('y')\n",
    "        plt.ylabel('y-y_pred')\n",
    "\n",
    "        ax_133 = plt.subplot(1, 3, 3)\n",
    "        z.plot.hist(bins=50, ax=ax_133)\n",
    "        z.loc[outliers, ].plot.hist(color='r', bins=50, ax=ax_133)\n",
    "        plt.legend(['Accepted', 'Outlier'])\n",
    "        plt.xlabel('z')\n",
    "        \n",
    "        return outliers"
   ]
  },
  {
   "cell_type": "markdown",
   "metadata": {},
   "source": [
    "## 删除 y 异常值"
   ]
  },
  {
   "cell_type": "code",
   "execution_count": 4,
   "metadata": {
    "ExecuteTime": {
     "end_time": "2024-07-15T06:59:59.699640Z",
     "start_time": "2024-07-15T06:59:58.490848Z"
    },
    "collapsed": true
   },
   "outputs": [
    {
     "ename": "NameError",
     "evalue": "name 'X_train' is not defined",
     "output_type": "error",
     "traceback": [
      "\u001b[1;31m---------------------------------------------------------------------------\u001b[0m",
      "\u001b[1;31mNameError\u001b[0m                                 Traceback (most recent call last)",
      "\u001b[1;32m~\\AppData\\Local\\Temp/ipykernel_24508/3444835560.py\u001b[0m in \u001b[0;36m<module>\u001b[1;34m\u001b[0m\n\u001b[0;32m      1\u001b[0m \u001b[1;32mfrom\u001b[0m \u001b[0msklearn\u001b[0m\u001b[1;33m.\u001b[0m\u001b[0mlinear_model\u001b[0m \u001b[1;32mimport\u001b[0m \u001b[0mRidge\u001b[0m\u001b[1;33m\u001b[0m\u001b[1;33m\u001b[0m\u001b[0m\n\u001b[0;32m      2\u001b[0m \u001b[1;33m\u001b[0m\u001b[0m\n\u001b[1;32m----> 3\u001b[1;33m \u001b[0moutliers\u001b[0m \u001b[1;33m=\u001b[0m \u001b[0mfind_outliers\u001b[0m\u001b[1;33m(\u001b[0m\u001b[0mRidge\u001b[0m\u001b[1;33m(\u001b[0m\u001b[1;33m)\u001b[0m\u001b[1;33m,\u001b[0m \u001b[0mX_train\u001b[0m\u001b[1;33m,\u001b[0m \u001b[0my_train\u001b[0m\u001b[1;33m,\u001b[0m \u001b[0msigma\u001b[0m\u001b[1;33m=\u001b[0m\u001b[1;36m3\u001b[0m\u001b[1;33m)\u001b[0m\u001b[1;33m\u001b[0m\u001b[1;33m\u001b[0m\u001b[0m\n\u001b[0m\u001b[0;32m      4\u001b[0m \u001b[0mX_train\u001b[0m \u001b[1;33m=\u001b[0m \u001b[0mX_train\u001b[0m\u001b[1;33m.\u001b[0m\u001b[0mdrop\u001b[0m\u001b[1;33m(\u001b[0m\u001b[0moutliers\u001b[0m\u001b[1;33m)\u001b[0m\u001b[1;33m\u001b[0m\u001b[1;33m\u001b[0m\u001b[0m\n\u001b[0;32m      5\u001b[0m \u001b[0my_train\u001b[0m \u001b[1;33m=\u001b[0m \u001b[0my_train\u001b[0m\u001b[1;33m.\u001b[0m\u001b[0mdrop\u001b[0m\u001b[1;33m(\u001b[0m\u001b[0moutliers\u001b[0m\u001b[1;33m)\u001b[0m\u001b[1;33m\u001b[0m\u001b[1;33m\u001b[0m\u001b[0m\n",
      "\u001b[1;31mNameError\u001b[0m: name 'X_train' is not defined"
     ]
    }
   ],
   "source": [
    "from sklearn.linear_model import Ridge\n",
    "\n",
    "outliers = find_outliers(Ridge(), X_train, y_train, sigma=3)\n",
    "X_train = X_train.drop(outliers)\n",
    "y_train = y_train.drop(outliers)\n",
    "X_train.shape, y_train.shape"
   ]
  },
  {
   "cell_type": "markdown",
   "metadata": {},
   "source": [
    "## 删除 特征 异常值"
   ]
  },
  {
   "cell_type": "code",
   "execution_count": null,
   "metadata": {
    "run_control": {
     "marked": false
    }
   },
   "outputs": [],
   "source": [
    "from sklearn.linear_model import Ridge\n",
    "import tqdm\n",
    "\n",
    "f = X_train.columns[0]\n",
    "f"
   ]
  },
  {
   "cell_type": "code",
   "execution_count": null,
   "metadata": {},
   "outputs": [],
   "source": [
    "X_ = X_train.drop(f, axis=1)\n",
    "y_ = X_train[f]\n",
    "\n",
    "outliers = find_outliers(Ridge(), X_, y_, sigma=4)\n",
    "X_train = X_train.drop(outliers)\n",
    "y_train = y_train.drop(outliers)\n",
    "X_train.shape, y_train.shape"
   ]
  },
  {
   "cell_type": "code",
   "execution_count": null,
   "metadata": {},
   "outputs": [],
   "source": [
    "# 对于所有特征\n",
    "for f in tqdm.tqdm(X_train.columns):\n",
    "    X_ = X_train.drop(f, axis=1)\n",
    "    y_ = X_train[f]\n",
    "\n",
    "    outliers = find_outliers(Ridge(), X_, y_, sigma=4.5)\n",
    "    X_train = X_train.drop(outliers)\n",
    "    y_train = y_train.drop(outliers)"
   ]
  },
  {
   "cell_type": "code",
   "execution_count": null,
   "metadata": {},
   "outputs": [],
   "source": [
    "X_train.shape, y_train.shape"
   ]
  }
 ],
 "metadata": {
  "kernelspec": {
   "display_name": "Python 3 (ipykernel)",
   "language": "python",
   "name": "python3"
  },
  "language_info": {
   "codemirror_mode": {
    "name": "ipython",
    "version": 3
   },
   "file_extension": ".py",
   "mimetype": "text/x-python",
   "name": "python",
   "nbconvert_exporter": "python",
   "pygments_lexer": "ipython3",
   "version": "3.9.7"
  },
  "toc": {
   "base_numbering": 1,
   "nav_menu": {},
   "number_sections": true,
   "sideBar": true,
   "skip_h1_title": false,
   "title_cell": "Table of Contents",
   "title_sidebar": "Contents",
   "toc_cell": false,
   "toc_position": {},
   "toc_section_display": true,
   "toc_window_display": false
  },
  "varInspector": {
   "cols": {
    "lenName": 16,
    "lenType": 16,
    "lenVar": 40
   },
   "kernels_config": {
    "python": {
     "delete_cmd_postfix": "",
     "delete_cmd_prefix": "del ",
     "library": "var_list.py",
     "varRefreshCmd": "print(var_dic_list())"
    },
    "r": {
     "delete_cmd_postfix": ") ",
     "delete_cmd_prefix": "rm(",
     "library": "var_list.r",
     "varRefreshCmd": "cat(var_dic_list()) "
    }
   },
   "types_to_exclude": [
    "module",
    "function",
    "builtin_function_or_method",
    "instance",
    "_Feature"
   ],
   "window_display": false
  }
 },
 "nbformat": 4,
 "nbformat_minor": 1
}
