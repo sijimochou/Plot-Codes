{
 "cells": [
  {
   "cell_type": "markdown",
   "metadata": {
    "vscode": {
     "languageId": "r"
    }
   },
   "source": [
    "geom_label_repel  帮助打标签"
   ]
  },
  {
   "cell_type": "code",
   "execution_count": null,
   "metadata": {
    "vscode": {
     "languageId": "r"
    }
   },
   "outputs": [],
   "source": [
    "# 绘制散点图并动态添加标签\n",
    "ggplot(data, aes(x = x, y = y)) +\n",
    "  geom_point() +\n",
    "  ggrepel::geom_label_repel(aes(label = label), \n",
    "                            nudge_x = 0.1, \n",
    "                            nudge_y = 0.1,\n",
    "                            segment.color = 'blue',\n",
    "                            box.padding = 0.3,\n",
    "                            point.padding = 0.3) +\n",
    "  theme_minimal()"
   ]
  }
 ],
 "metadata": {
  "language_info": {
   "name": "python"
  }
 },
 "nbformat": 4,
 "nbformat_minor": 2
}
